{
 "cells": [
  {
   "cell_type": "code",
   "execution_count": 33,
   "id": "01994b4e",
   "metadata": {},
   "outputs": [],
   "source": [
    "import torch\n",
    "from tqdm import tqdm\n",
    "import torch.nn as nn\n",
    "from torch.utils.data import SubsetRandomSampler, DataLoader\n",
    "from torchvision.transforms import GaussianBlur\n",
    "import numpy as np\n",
    "from matplotlib import pyplot as plt\n",
    "from scipy.ndimage import gaussian_filter, zoom, mean as ndimage_mean\n",
    "from skimage.transform import resize\n",
    "import cv2\n"
   ]
  },
  {
   "cell_type": "code",
   "execution_count": 183,
   "id": "08f27705",
   "metadata": {},
   "outputs": [
    {
     "name": "stdout",
     "output_type": "stream",
     "text": [
      "cuda\n"
     ]
    }
   ],
   "source": [
    "device = 'cuda' if torch.cuda.is_available() else 'cpu'\n",
    "\n",
    "print(device)"
   ]
  },
  {
   "cell_type": "code",
   "execution_count": null,
   "id": "384e51de",
   "metadata": {},
   "outputs": [],
   "source": [
    "# Functions for pixellation\n",
    "\n",
    "def upsample_nearest(image, new_width, new_height):\n",
    "\n",
    "    old_height, old_width = image.shape[-2:]\n",
    "    scale_x = new_width / old_width\n",
    "    scale_y = new_height / old_height\n",
    "\n",
    "    # Create the coordinate grid for the new image\n",
    "    x_indices = (np.arange(new_width) / scale_x).astype(int)\n",
    "    y_indices = (np.arange(new_height) / scale_y).astype(int)\n",
    "\n",
    "    # Use advanced indexing to map the input pixels to the new grid\n",
    "    upsampled_image = image[:,y_indices[:, None], x_indices]\n",
    "    return upsampled_image\n",
    "\n",
    "def downsample_to_fixed_size(image, target_size):\n",
    "\n",
    "    num_channels, input_height, input_width = image.shape\n",
    "    target_rows, target_cols = target_size\n",
    "\n",
    "    # Calculate the scaling factors\n",
    "    row_scale = input_height / target_rows\n",
    "    col_scale = input_width / target_cols\n",
    "\n",
    "    # Create an empty array for the downsampled image\n",
    "    downsampled_image = np.zeros((num_channels,target_rows, target_cols), dtype=np.float32)\n",
    "\n",
    "    for row in range(target_rows):\n",
    "        for col in range(target_cols):\n",
    "            # Determine the boundaries of the region in the original image\n",
    "            row_start = int(row * row_scale)\n",
    "            row_end = int((row + 1) * row_scale)\n",
    "            col_start = int(col * col_scale)\n",
    "            col_end = int((col + 1) * col_scale)\n",
    "\n",
    "            # Extract the region and compute the average for each channel\n",
    "            region = image[:,row_start:row_end, col_start:col_end]\n",
    "            downsampled_image[:,row, col] = region.mean(axis=(1, 2))\n",
    "\n",
    "    return downsampled_image.astype(image.dtype)\n",
    "\n"
   ]
  },
  {
   "cell_type": "code",
   "execution_count": null,
   "id": "060007cc",
   "metadata": {},
   "outputs": [],
   "source": [
    "class coldDiff:\n",
    "    def __init__(self, steps=300, size=28, loss_type='L2'):\n",
    "        self.steps = steps\n",
    "        self.size = size\n",
    "        self.loss_type = loss_type\n",
    "        \n",
    "    def blur(self, x0, t, base_sigma=1.0):\n",
    "        sigma_t = torch.sqrt(t*base_sigma**2).detach().cpu().numpy()\n",
    "        x0_cpu = x0.detach().cpu().numpy()\n",
    "        blurred_imgs = [gaussian_filter(x0_cpu[i], sigma=(0, sigma_t[i], sigma_t[i])) for i in range(len(sigma_t))]\n",
    "        return torch.from_numpy(np.stack(blurred_imgs)).to(device)\n",
    "        # return GaussianBlur(5, sigma_t)\n",
    "\n",
    "    def vignette(self,x0,t): # Masking in the paper\n",
    "        x0_cpu = x0.detach().cpu().numpy()\n",
    "        \n",
    "\n",
    "        pass\n",
    "\n",
    "\n",
    "    def pixellate(self,x0,t,final_resolution=4): # Super resolution in the paper\n",
    "\n",
    "        original_w,original_h = x0.shape[2],x0.shape[3]\n",
    "                \n",
    "        w,h = original_w,original_h\n",
    "        pixellated_imgs = x0.detach().cpu().numpy()\n",
    "\n",
    "        # Convert to list of numpy arrays\n",
    "        pixellated_imgs = [pixellated_imgs[i].astype(np.float32) for i in range(len(pixellated_imgs))]\n",
    "        while w > final_resolution and h > final_resolution:\n",
    "            if(w//2 < final_resolution and h//2 < final_resolution):\n",
    "                target_width = final_resolution\n",
    "                target_height = final_resolution\n",
    "            else:\n",
    "                target_width = w//2\n",
    "                target_height = h//2\n",
    "            # Downsample the image using average pooling\n",
    "            for i in range(len(pixellated_imgs)):\n",
    "                if t[i] > 0:\n",
    "                    \n",
    "                    pixellated_imgs[i] = downsample_to_fixed_size(pixellated_imgs[i], (target_height, target_width))\n",
    "                    print(f\"pixellated_imgs[{i}].shape:{pixellated_imgs[i].shape}, target_width:{target_width}, target_height:{target_height}\")\n",
    "             \n",
    "            w,h = w//2,h//2\n",
    "            \n",
    "            t = t - 1    \n",
    "        # Up sample the image to the original resolution (original_w,original_h) using nearest neighbour interpolation\n",
    "\n",
    "        pixellated_imgs = [upsample_nearest(pixellated_imgs[i], original_w, original_h) for i in range(len(pixellated_imgs))]\n",
    "\n",
    "\n",
    "        return torch.from_numpy(np.stack(pixellated_imgs)).to(device)\n",
    "    \n",
    "    def inpainting(self,x_0,t,base_variance=1): #Base variance is beta in the paper\n",
    "        w,h = x_0.shape[2],x_0.shape[3]\n",
    "        center_x,center_y = np.random.randint(0,w, size = x_0.shape[0]),np.random.randint(0,h,x_0.shape[0])\n",
    "        variance = base_variance + 0.3*t\n",
    "        # 2d gaussian curve with center at rand_x,rand_y and peak value = 1, discretized \n",
    "\n",
    "        x_0 = x_0.detach().cpu().numpy()\n",
    "        gaussian_mask = np.zeros_like(x_0, dtype=float)\n",
    "\n",
    "        y, x = np.meshgrid(np.arange(h), np.arange(w), indexing='ij')\n",
    "        gaussian = torch.stack([1-np.exp(-((x - center_x[i])**2 + (y - center_y[i])**2) / (2 * variance[i])) for i in range(len(x_0))]).numpy()\n",
    "\n",
    "        # Add extra channel dimension as 2nd dimension\n",
    "        gaussian = gaussian[:,None,:,:]\n",
    "\n",
    "        \n",
    "\n",
    "        # Apply the mask to the image\n",
    "        inpainted_imgs = x_0 * gaussian\n",
    "\n",
    "        return torch.from_numpy(inpainted_imgs).to(device)\n",
    "    \n",
    "    def sample_timesteps(self, n):\n",
    "        return torch.randint(low=1, high=self.steps, size=(n,)) #Should this be self.steps+1?\n",
    "    \n",
    "    def sample(self, model, batch_size):\n",
    "        output_shape = (batch_size, 1, 28, 28)\n",
    "        t = self.steps\n",
    "        model.eval()\n",
    "        #x_prev = x_t\n",
    "        # For now just use a black image\n",
    "        x_prev = torch.zeros(output_shape).to(device)\n",
    "        for s in tqdm(range(t, 0, -1)):\n",
    "            s_ = (torch.ones(batch_size)*s).long().to(device)\n",
    "            pred_x0 = model(x_prev, s_)\n",
    "            x_prev = x_prev - self.blur(pred_x0, s_) + self.blur(pred_x0, s_-1)\n",
    "        return pred_x0"
   ]
  },
  {
   "cell_type": "code",
   "execution_count": null,
   "id": "739a5671",
   "metadata": {},
   "outputs": [],
   "source": [
    "\n"
   ]
  },
  {
   "cell_type": "code",
   "execution_count": 161,
   "id": "bdbda95e",
   "metadata": {},
   "outputs": [],
   "source": [
    "class UNet(nn.Module):\n",
    "    def __init__(self, c_in=1, c_out=1, time_dim=256, device=device):\n",
    "        super().__init__()\n",
    "        self.device = device\n",
    "        self.time_dim = time_dim\n",
    "        self.inc = DoubleConv(c_in, 64)\n",
    "        self.down1 = Down(64, 128)\n",
    "        self.sa1 = SelfAttention(128, 14)\n",
    "        self.down2 = Down(128, 256)\n",
    "        self.sa2 = SelfAttention(256, 7)\n",
    "        self.down3 = Down(256, 256)\n",
    "        self.sa3 = SelfAttention(256, 4)\n",
    "        \n",
    "        self.bot1 = DoubleConv(256, 512)\n",
    "        self.bot2 = DoubleConv(512, 512)\n",
    "        self.bot3 = DoubleConv(512, 256)\n",
    "        \n",
    "        self.up1 = Up(512, 128)\n",
    "        self.sa4 = SelfAttention(128, 7)\n",
    "        self.up2 = Up(256, 64)\n",
    "        self.sa5 = SelfAttention(64, 14)\n",
    "        self.up3 = Up(128, 64)\n",
    "        self.sa6 = SelfAttention(64,28)\n",
    "        self.outc = nn.Conv2d(64, c_out, kernel_size=1)\n",
    "        \n",
    "    # Sinosoidal encoding - further read\n",
    "    def pos_encoding(self, t, channels):\n",
    "        inv_freq = 1.0 / (10000**(torch.arange(0, channels, 2, device=self.device).float() / channels))\n",
    "        \n",
    "        pos_enc_a = torch.sin(t.repeat(1, channels // 2)*inv_freq)\n",
    "        pos_enc_b = torch.cos(t.repeat(1, channels//2)*inv_freq)\n",
    "        pos_enc = torch.cat([pos_enc_a, pos_enc_b], dim=-1)\n",
    "        return pos_enc\n",
    "    \n",
    "    def forward(self, x, t):\n",
    "        t = t.unsqueeze(-1).type(torch.float)\n",
    "        t = self.pos_encoding(t, self.time_dim)\n",
    "        \n",
    "        # Encoder\n",
    "        x1 = self.inc(x)\n",
    "        x2 = self.down1(x1, t)\n",
    "        x2 = self.sa1(x2)\n",
    "        x3 = self.down2(x2, t)\n",
    "        x3 = self.sa2(x3)\n",
    "        x4 = self.down3(x3, t)\n",
    "        x4 = self.sa3(x4)\n",
    "        \n",
    "        # Bottleneck\n",
    "        x4 = self.bot1(x4)\n",
    "        x4 = self.bot2(x4)\n",
    "        x4 = self.bot3(x4)\n",
    "        \n",
    "        # Decoder\n",
    "        #print(x4.size())\n",
    "        #print(x3.size())\n",
    "        x = self.up1(x4, x3, t)\n",
    "        x = self.sa4(x)\n",
    "        x = self.up2(x, x2, t)\n",
    "        x = self.sa5(x)\n",
    "        x = self.up3(x, x1, t)\n",
    "        x = self.sa6(x)\n",
    "        return self.outc(x)  "
   ]
  },
  {
   "cell_type": "code",
   "execution_count": 162,
   "id": "81371f41",
   "metadata": {},
   "outputs": [],
   "source": [
    "class DoubleConv(nn.Module):\n",
    "    def __init__(self, in_channels, out_channels, mid_channels=None, residual=False):\n",
    "        super().__init__()\n",
    "        if not mid_channels:\n",
    "            mid_channels = out_channels\n",
    "        self.conv1 = nn.Conv2d(in_channels, mid_channels, kernel_size=3, padding=1, bias=False)\n",
    "        self.norm1 = nn.GroupNorm(1, mid_channels)\n",
    "        self.act = nn.GELU() ## Try Relu, leakyReLU\n",
    "        self.conv2 = nn.Conv2d(mid_channels, out_channels, kernel_size=3, padding=1, bias=False)\n",
    "        self.norm2 = nn.GroupNorm(1, out_channels)\n",
    "        self.residual = residual\n",
    "        \n",
    "    def forward(self, x):\n",
    "        x2 = self.conv1(x)\n",
    "        x2 = self.norm1(x2)\n",
    "        x2 = self.act(x2)\n",
    "        x2 = self.conv2(x2)\n",
    "        x2 = self.norm2(x2)\n",
    "        if self.residual:\n",
    "            return self.act(x+x2)\n",
    "        else:\n",
    "            return x2"
   ]
  },
  {
   "cell_type": "code",
   "execution_count": 163,
   "id": "2486011f",
   "metadata": {},
   "outputs": [],
   "source": [
    "class Down(nn.Module):\n",
    "    def __init__(self, in_channels, out_channels, emb_dim=256):\n",
    "        super().__init__()\n",
    "        self.maxPool = nn.MaxPool2d(2)\n",
    "        self.doubleConv1 = DoubleConv(in_channels, in_channels, residual=True)\n",
    "        self.doubleConv2 = DoubleConv(in_channels, out_channels)\n",
    "        \n",
    "        self.act = nn.SiLU()\n",
    "        self.linear = nn.Linear(emb_dim, out_channels)\n",
    "        \n",
    "    def forward(self, x, t):\n",
    "        x = self.maxPool(x)\n",
    "        x = self.doubleConv1(x)\n",
    "        x = self.doubleConv2(x)\n",
    "        #print(x.size())\n",
    "        emb = self.act(t)\n",
    "        emb = self.linear(emb)[:, :, None, None].repeat(1,1,x.shape[-2], x.shape[-1])\n",
    "        #print(emb.size())\n",
    "        \n",
    "        return x+emb  "
   ]
  },
  {
   "cell_type": "code",
   "execution_count": 164,
   "id": "18263242",
   "metadata": {},
   "outputs": [],
   "source": [
    "class Up(nn.Module):\n",
    "    def __init__(self, in_channels, out_channels, emb_dim=256):\n",
    "        super().__init__()\n",
    "        \n",
    "        #self.up = nn.Upsample(scale_factor=2, mode=\"bilinear\", align_corners=True)\n",
    "        self.up = nn.ConvTranspose2d(in_channels // 2, in_channels // 2, kernel_size=2, stride=2)\n",
    "        self.doubleConv1 = DoubleConv(in_channels, in_channels, residual=True)\n",
    "        self.doubleConv2 = DoubleConv(in_channels, out_channels, in_channels//2)\n",
    "        self.act = nn.SiLU()\n",
    "        self.linear = nn.Linear(emb_dim, out_channels)\n",
    "        \n",
    "    def forward(self, x, skip_x, t):\n",
    "        #print(x.size())\n",
    "        x = self.up(x)\n",
    "        #print(x.size())\n",
    "        if x.shape[-2:] != skip_x.shape[-2:]:\n",
    "            x = nn.functional.interpolate(x, size=skip_x.shape[-2:], mode='bilinear', align_corners=True)\n",
    "            #print(x.size())\n",
    "        x = torch.cat([skip_x, x], dim=1)\n",
    "        x = self.doubleConv1(x)\n",
    "        x = self.doubleConv2(x)\n",
    "        emb = self.act(t)\n",
    "        emb = self.linear(emb)[:, :, None, None].repeat(1,1,x.shape[-2], x.shape[-1])\n",
    "        return x+emb"
   ]
  },
  {
   "cell_type": "code",
   "execution_count": 165,
   "id": "c8564fcc",
   "metadata": {},
   "outputs": [],
   "source": [
    "class SelfAttention(nn.Module):\n",
    "    def __init__(self, channels, size):\n",
    "        super(SelfAttention, self).__init__()\n",
    "        self.channels = channels\n",
    "        self.size = size\n",
    "        self.mha = nn.MultiheadAttention(channels, 4, batch_first=True)\n",
    "        self.ln = nn.LayerNorm([channels])\n",
    "        self.linear = nn.Linear(channels, channels)\n",
    "        self.act = nn.GELU()\n",
    "    \n",
    "    def forward(self, x):\n",
    "        b, c, h, w = x.shape\n",
    "        x = x.view(b, c, h*w).permute(0,2,1)\n",
    "        x_ln = self.ln(x)\n",
    "        attention_value, _ = self.mha(x_ln, x_ln, x_ln)\n",
    "        attention_value = attention_value + x\n",
    "        x = self.ln(attention_value)\n",
    "        x = self.linear(x)\n",
    "        x = self.act(x)\n",
    "        x = self.linear(x)\n",
    "        attention_value = x + attention_value\n",
    "        \n",
    "        return attention_value.permute(0, 2, 1).view(b, c, h, w)"
   ]
  },
  {
   "cell_type": "code",
   "execution_count": 166,
   "id": "584cd4cc",
   "metadata": {},
   "outputs": [],
   "source": [
    "def plot_images(images):\n",
    "    plt.figure(figsize=(32, 32))\n",
    "    plt.imshow(torch.cat([torch.cat([i for i in images.detach().cpu()], dim=-1)], dim=-2).permute(1,2,0).cpu(), cmap='gray')\n",
    "    plt.show()"
   ]
  },
  {
   "cell_type": "code",
   "execution_count": 167,
   "id": "03f9e065",
   "metadata": {},
   "outputs": [],
   "source": [
    "import torchvision\n",
    "\n",
    "transforms = torchvision.transforms.Compose([\n",
    "    #torchvision.transforms.Resize(80),\n",
    "    #torchvision.transforms.RandomResizedCrop(args.img_size, scale=(0.8, 1.0)),\n",
    "    torchvision.transforms.ToTensor(),\n",
    "    torchvision.transforms.Normalize((0.5,), (0.5,)) \n",
    "])"
   ]
  },
  {
   "cell_type": "code",
   "execution_count": 168,
   "id": "0ccff556",
   "metadata": {},
   "outputs": [],
   "source": [
    "np.random.seed(32)\n",
    "\n",
    "def split_indices(n, val_pct):\n",
    "    n_val = int(val_pct*n)\n",
    "    idxs = np.random.permutation(n)\n",
    "    return idxs[n_val:], idxs[:n_val]"
   ]
  },
  {
   "cell_type": "code",
   "execution_count": 203,
   "id": "634a1d7f",
   "metadata": {},
   "outputs": [
    {
     "name": "stdout",
     "output_type": "stream",
     "text": [
      "7500\n"
     ]
    }
   ],
   "source": [
    "EPOCHS = 100\n",
    "batch_size = 8\n",
    "image_size = 28\n",
    "learning_rate = 5e-5\n",
    "steps = 4\n",
    "\n",
    "\n",
    "# Import dataset\n",
    "dataset = torchvision.datasets.MNIST(root=\"./data\", train=True, transform=transforms, download=True)\n",
    "test_dataset = torchvision.datasets.MNIST(root=\"./data\", train=False, transform=transforms, download=True)\n",
    "\n",
    "train_indices, val_indices = split_indices(len(dataset), 0.2)\n",
    "train_sampler = SubsetRandomSampler(train_indices)\n",
    "train_loader = torch.utils.data.DataLoader(dataset, batch_size, shuffle=True)\n",
    "val_sampler = SubsetRandomSampler(val_indices)\n",
    "val_loader = DataLoader(dataset, batch_size, sampler=val_sampler)\n",
    "\n",
    "model = UNet().to(device)\n",
    "\n",
    "optimizer = torch.optim.AdamW(model.parameters(), lr=learning_rate)\n",
    "loss_fn = nn.MSELoss()\n",
    "diffusion = coldDiff(size=image_size, steps = steps)\n",
    "length = len(train_loader)\n",
    "print(length)\n",
    "\n",
    "train_losses = []\n",
    "val_losses = []\n",
    "\n"
   ]
  },
  {
   "cell_type": "code",
   "execution_count": 204,
   "id": "bfafd888",
   "metadata": {},
   "outputs": [
    {
     "name": "stdout",
     "output_type": "stream",
     "text": [
      "tensor([2, 2, 1, 2, 3, 2, 3, 3])\n"
     ]
    },
    {
     "data": {
      "image/png": "[encoded data removed]",
      "text/plain": [
       "<Figure size 3200x3200 with 1 Axes>"
      ]
     },
     "metadata": {},
     "output_type": "display_data"
    },
    {
     "data": {
      "image/png": "[encoded data removed]",
      "text/plain": [
       "<Figure size 3200x3200 with 1 Axes>"
      ]
     },
     "metadata": {},
     "output_type": "display_data"
    }
   ],
   "source": [
    "for x, _ in train_loader:\n",
    "    x = x.to(device)\n",
    "    t = diffusion.sample_timesteps(x.shape[0])\n",
    "    print(t)\n",
    "    # Plot the images\n",
    "    plot_images(x)\n",
    "    x_t = diffusion.pixellate(x, t)\n",
    "    plot_images(x_t)\n",
    "    break"
   ]
  },
  {
   "cell_type": "code",
   "execution_count": null,
   "id": "5b550101",
   "metadata": {},
   "outputs": [
    {
     "name": "stdout",
     "output_type": "stream",
     "text": [
      "Epoch  0\n"
     ]
    },
    {
     "name": "stderr",
     "output_type": "stream",
     "text": [
      "100%|██████████| 7500/7500 [10:54<00:00, 11.46it/s]\n",
      "100%|██████████| 4/4 [00:00<00:00, 44.95it/s]\n"
     ]
    },
    {
     "data": {
      "image/png": "[encoded data removed]",
      "text/plain": [
       "<Figure size 3200x3200 with 1 Axes>"
      ]
     },
     "metadata": {},
     "output_type": "display_data"
    },
    {
     "name": "stdout",
     "output_type": "stream",
     "text": [
      "Epoch [1/100] | Train Loss: 0.0660 | Validation Loss: 0.0971\n",
      "Epoch  1\n"
     ]
    },
    {
     "name": "stderr",
     "output_type": "stream",
     "text": [
      "100%|██████████| 7500/7500 [11:00<00:00, 11.35it/s]\n"
     ]
    },
    {
     "name": "stdout",
     "output_type": "stream",
     "text": [
      "Epoch [2/100] | Train Loss: 0.0529 | Validation Loss: 0.1124\n",
      "Epoch  2\n"
     ]
    },
    {
     "name": "stderr",
     "output_type": "stream",
     "text": [
      "100%|██████████| 7500/7500 [10:27<00:00, 11.96it/s]\n"
     ]
    },
    {
     "name": "stdout",
     "output_type": "stream",
     "text": [
      "Epoch [3/100] | Train Loss: 0.0502 | Validation Loss: 0.1104\n",
      "Epoch  3\n"
     ]
    },
    {
     "name": "stderr",
     "output_type": "stream",
     "text": [
      "100%|██████████| 7500/7500 [10:28<00:00, 11.94it/s]\n",
      "100%|██████████| 4/4 [00:00<00:00, 63.97it/s]\n"
     ]
    },
    {
     "data": {
      "image/png": "[encoded data removed]",
      "text/plain": [
       "<Figure size 3200x3200 with 1 Axes>"
      ]
     },
     "metadata": {},
     "output_type": "display_data"
    },
    {
     "name": "stdout",
     "output_type": "stream",
     "text": [
      "Epoch [4/100] | Train Loss: 0.0484 | Validation Loss: 0.1082\n",
      "Epoch  4\n"
     ]
    },
    {
     "name": "stderr",
     "output_type": "stream",
     "text": [
      "100%|██████████| 7500/7500 [10:25<00:00, 11.99it/s]\n"
     ]
    },
    {
     "name": "stdout",
     "output_type": "stream",
     "text": [
      "Epoch [5/100] | Train Loss: 0.0469 | Validation Loss: 0.1167\n",
      "Epoch  5\n"
     ]
    },
    {
     "name": "stderr",
     "output_type": "stream",
     "text": [
      "100%|██████████| 7500/7500 [10:19<00:00, 12.11it/s]\n"
     ]
    },
    {
     "name": "stdout",
     "output_type": "stream",
     "text": [
      "Epoch [6/100] | Train Loss: 0.0459 | Validation Loss: 0.1176\n",
      "Epoch  6\n"
     ]
    },
    {
     "name": "stderr",
     "output_type": "stream",
     "text": [
      " 36%|███▌      | 2672/7500 [03:48<07:48, 10.31it/s]"
     ]
    }
   ],
   "source": [
    "\n",
    "\n",
    "for epoch in range(EPOCHS):\n",
    "    print(\"Epoch \",epoch)\n",
    "    train_loss = 0\n",
    "    for x, _ in tqdm(train_loader):\n",
    "        optimizer.zero_grad()\n",
    "        x = x.to(device)\n",
    "        t = diffusion.sample_timesteps(x.shape[0]).to(device)\n",
    "        #x_t = diffusion.blur(x, t)\n",
    "        x_t = diffusion.pixellate(x,t)\n",
    "        pred = model(x_t, t)\n",
    "        loss = loss_fn(pred, x)\n",
    "        loss.backward()\n",
    "        optimizer.step()\n",
    "        train_loss += loss.item()\n",
    "    val_loss = 0\n",
    "    with torch.no_grad():\n",
    "        model.eval()\n",
    "        for x, _ in val_loader:\n",
    "            #print(type(x))\n",
    "            #print(x.shape)\n",
    "            x = x.to(device)\n",
    "            t = diffusion.sample_timesteps(x.shape[0]).to(device)\n",
    "            x_t = diffusion.blur(x, t)\n",
    "            pred = model(x_t, t)\n",
    "            batch_val_loss = loss_fn(pred, x)\n",
    "            val_loss += batch_val_loss.item()\n",
    "    \n",
    "    # Sample only every 3 epochs for opt purposes\n",
    "    if epoch%3 == 0:\n",
    "        sampled_images = diffusion.sample(model, batch_size=5)\n",
    "        plot_images(sampled_images)\n",
    "        \n",
    "    # Save loss\n",
    "    avg_train_loss = train_loss/len(train_loader)\n",
    "    avg_val_loss = val_loss/len(val_loader)\n",
    "    print(f\"Epoch [{epoch+1}/100] | Train Loss: {avg_train_loss:.4f} | Validation Loss: {avg_val_loss:.4f}\")\n",
    "    train_losses.append(avg_train_loss)\n",
    "    val_losses.append(avg_val_loss)"
   ]
  },
  {
   "cell_type": "code",
   "execution_count": null,
   "id": "5d56cb94",
   "metadata": {},
   "outputs": [],
   "source": [
    "torch.save(model.state_dict(), './Models/DM/coldDiff1')"
   ]
  },
  {
   "cell_type": "code",
   "execution_count": 69,
   "id": "a4d9081f",
   "metadata": {},
   "outputs": [
    {
     "name": "stderr",
     "output_type": "stream",
     "text": [
      "100%|████████████████████████████████████████████████████████████████████████████████| 300/300 [00:10<00:00, 27.94it/s]\n"
     ]
    },
    {
     "data": {
      "image/png": "[encoded data removed]",
      "text/plain": [
       "<Figure size 3200x3200 with 1 Axes>"
      ]
     },
     "metadata": {},
     "output_type": "display_data"
    }
   ],
   "source": [
    "diff2 = coldDiff()\n",
    "sampled_images = diff2.sample(model, batch_size=5)\n",
    "plot_images(sampled_images)"
   ]
  },
  {
   "cell_type": "code",
   "execution_count": null,
   "id": "0444ab50",
   "metadata": {},
   "outputs": [],
   "source": [
    "# Manually create loss record since I forgot to add the append.\n",
    "train_losses = []\n",
    "val_losses = []"
   ]
  },
  {
   "cell_type": "code",
   "execution_count": null,
   "id": "dfb177b7",
   "metadata": {},
   "outputs": [],
   "source": [
    "### Save model\n",
    "torch.save(model.state_dict(), './Models/DM/diffusion2')"
   ]
  },
  {
   "cell_type": "markdown",
   "id": "9ab0bd29",
   "metadata": {},
   "source": [
    "### FID"
   ]
  },
  {
   "cell_type": "code",
   "execution_count": null,
   "id": "638173b6",
   "metadata": {},
   "outputs": [],
   "source": [
    "from inception import InceptionV3\n",
    "from torchvision.utils import save_image\n",
    "from torchvision.models import inception_v3\n",
    "import torch.nn.functional as F\n",
    "import numpy as np\n",
    "from scipy.linalg import sqrtm\n",
    "\n",
    "\n",
    "def calculate_fid(mu1, sigma1, mu2, sigma2):\n",
    "    diff = mu1-mu2\n",
    "    covmean = sqrtm(sigma1.dot(sigma2))\n",
    "    if np.iscomplexobj(covmean):\n",
    "        covmean = covmean.real\n",
    "    fid = diff.dot(diff) + np.trace(sigma1+sigma2- 2*covmean)\n",
    "    return fid\n",
    "\n",
    "def get_activations(images, model, batch_size=32, dims=2048, device='cuda'):\n",
    "    model.eval()\n",
    "    pred_arr = np.empty((len(images), dims))\n",
    "    with torch.no_grad():\n",
    "        for i in range(0, len(images), batch_size):\n",
    "            start = i\n",
    "            end = i+batch_size\n",
    "            batch = images[start:end].to(device)\n",
    "            #print(batch.size())\n",
    "            #raise\n",
    "            pred = model(batch)[0]\n",
    "            pred = F.adaptive_avg_pool2d(pred, output_size=(1,1))\n",
    "            pred = pred.squeeze(3).squeeze(2).cpu().numpy()\n",
    "            pred_arr[start:end] = pred\n",
    "    return pred_arr\n",
    "\n",
    "#inception_model = inception_v3(pretrained=True, transform_input=False).to(device)\n",
    "#inception_model.fc = torch.nn.Identity()\n",
    "block_idx = InceptionV3.BLOCK_INDEX_BY_DIM[2048]\n",
    "inception_model = InceptionV3([block_idx]).to(device)"
   ]
  },
  {
   "cell_type": "code",
   "execution_count": 40,
   "id": "d5d591f2",
   "metadata": {},
   "outputs": [
    {
     "name": "stderr",
     "output_type": "stream",
     "text": [
      "999it [01:06, 14.93it/s]\n",
      "999it [01:07, 14.79it/s]\n",
      "999it [01:08, 14.60it/s]\n",
      "999it [01:08, 14.67it/s]\n",
      "999it [01:09, 14.44it/s]\n",
      "999it [01:08, 14.52it/s]\n",
      "999it [01:09, 14.33it/s]\n",
      "999it [01:09, 14.46it/s]\n",
      "999it [01:08, 14.56it/s]\n",
      "999it [01:09, 14.27it/s]\n",
      "999it [01:08, 14.55it/s]\n",
      "999it [01:09, 14.37it/s]\n",
      "999it [01:08, 14.57it/s]\n",
      "999it [01:09, 14.39it/s]\n",
      "999it [01:08, 14.56it/s]\n",
      "999it [01:11, 13.98it/s]\n",
      "999it [01:09, 14.41it/s]\n",
      "999it [01:08, 14.66it/s]\n",
      "999it [01:07, 14.71it/s]\n",
      "999it [01:09, 14.32it/s]\n",
      "999it [01:08, 14.60it/s]\n",
      "999it [01:08, 14.58it/s]\n",
      "999it [01:08, 14.55it/s]\n",
      "999it [01:09, 14.36it/s]\n",
      "999it [01:08, 14.49it/s]\n",
      "999it [01:09, 14.39it/s]\n",
      "999it [01:08, 14.53it/s]\n",
      "999it [01:10, 14.13it/s]\n",
      "999it [01:10, 14.15it/s]\n",
      "999it [01:09, 14.46it/s]\n",
      "999it [01:10, 14.16it/s]\n",
      "999it [01:11, 13.98it/s]\n",
      "999it [01:13, 13.59it/s]\n",
      "999it [01:15, 13.22it/s]\n",
      "999it [01:11, 13.94it/s]\n",
      "999it [01:11, 14.01it/s]\n",
      "999it [01:11, 13.89it/s]\n",
      "999it [01:10, 14.09it/s]\n",
      "999it [01:09, 14.30it/s]\n",
      "999it [01:08, 14.50it/s]\n",
      "999it [01:08, 14.54it/s]\n",
      "999it [01:09, 14.43it/s]\n",
      "999it [01:10, 14.09it/s]\n",
      "999it [01:10, 14.10it/s]\n",
      "999it [01:12, 13.76it/s]\n",
      "999it [01:12, 13.82it/s]\n",
      "999it [01:08, 14.55it/s]\n",
      "999it [01:08, 14.55it/s]\n",
      "999it [01:08, 14.56it/s]\n",
      "999it [01:08, 14.53it/s]\n",
      "999it [01:12, 13.87it/s]\n",
      "999it [01:08, 14.51it/s]\n",
      "999it [01:12, 13.70it/s]\n",
      "999it [01:11, 14.03it/s]\n",
      "999it [01:08, 14.55it/s]\n",
      "999it [01:08, 14.55it/s]\n",
      "999it [01:08, 14.58it/s]\n",
      "999it [01:08, 14.56it/s]\n",
      "999it [01:10, 14.23it/s]\n",
      "999it [01:11, 14.05it/s]\n",
      "999it [01:11, 13.89it/s]\n",
      "999it [01:08, 14.52it/s]\n",
      "999it [01:09, 14.32it/s]\n",
      "999it [01:09, 14.47it/s]\n",
      "999it [03:23,  4.92it/s]\n",
      "999it [01:34, 10.54it/s]\n",
      "999it [01:34, 10.52it/s]\n",
      "999it [01:35, 10.51it/s]\n",
      "999it [01:35, 10.44it/s]\n",
      "999it [01:36, 10.41it/s]\n",
      "999it [01:37, 10.22it/s]\n",
      "999it [23:01,  1.38s/it] \n",
      "999it [01:06, 15.00it/s]\n",
      "999it [01:07, 14.87it/s]\n",
      "999it [01:07, 14.83it/s]\n",
      "999it [01:07, 14.80it/s]\n",
      "999it [01:07, 14.77it/s]\n",
      "999it [01:07, 14.77it/s]\n",
      "999it [01:07, 14.75it/s]\n",
      "999it [01:07, 14.77it/s]\n",
      "999it [01:07, 14.76it/s]\n",
      "999it [01:07, 14.74it/s]\n",
      "999it [01:07, 14.74it/s]\n",
      "999it [01:07, 14.73it/s]\n",
      "999it [01:07, 14.71it/s]\n",
      "999it [01:07, 14.70it/s]\n",
      "999it [01:07, 14.70it/s]\n",
      "999it [01:07, 14.69it/s]\n",
      "999it [01:08, 14.68it/s]\n",
      "999it [01:07, 14.70it/s]\n",
      "999it [01:08, 14.66it/s]\n",
      "999it [01:08, 14.67it/s]\n",
      "999it [01:08, 14.67it/s]\n",
      "999it [01:08, 14.69it/s]\n",
      "999it [01:08, 14.67it/s]\n",
      "999it [01:08, 14.68it/s]\n",
      "999it [01:08, 14.66it/s]\n",
      "999it [01:08, 14.68it/s]\n",
      "999it [01:08, 14.69it/s]\n",
      "999it [02:18,  7.21it/s]\n",
      "999it [01:07, 14.75it/s]\n",
      "999it [01:07, 14.74it/s]\n",
      "999it [01:08, 14.61it/s]\n",
      "999it [01:08, 14.59it/s]\n",
      "999it [01:08, 14.57it/s]\n",
      "999it [01:08, 14.59it/s]\n",
      "999it [01:08, 14.52it/s]\n",
      "999it [01:08, 14.50it/s]\n",
      "999it [01:09, 14.46it/s]\n",
      "999it [01:09, 14.47it/s]\n",
      "999it [01:09, 14.44it/s]\n",
      "677it [01:39,  6.81it/s]\n"
     ]
    },
    {
     "ename": "KeyboardInterrupt",
     "evalue": "",
     "output_type": "error",
     "traceback": [
      "\u001b[1;31m---------------------------------------------------------------------------\u001b[0m",
      "\u001b[1;31mKeyboardInterrupt\u001b[0m                         Traceback (most recent call last)",
      "Cell \u001b[1;32mIn[40], line 8\u001b[0m\n\u001b[0;32m      6\u001b[0m     \u001b[38;5;28;01mfor\u001b[39;00m x, t \u001b[38;5;129;01min\u001b[39;00m train_loader:\n\u001b[0;32m      7\u001b[0m         original_images\u001b[38;5;241m.\u001b[39mappend(x)\n\u001b[1;32m----> 8\u001b[0m         sampled \u001b[38;5;241m=\u001b[39m diffusion\u001b[38;5;241m.\u001b[39msample(model, n\u001b[38;5;241m=\u001b[39mx\u001b[38;5;241m.\u001b[39mshape[\u001b[38;5;241m0\u001b[39m])\n\u001b[0;32m      9\u001b[0m         generated_images\u001b[38;5;241m.\u001b[39mappend(sampled)\n\u001b[0;32m     11\u001b[0m original_images \u001b[38;5;241m=\u001b[39m torch\u001b[38;5;241m.\u001b[39mstack(original_images)\n",
      "Cell \u001b[1;32mIn[2], line 38\u001b[0m, in \u001b[0;36mDiffusion.sample\u001b[1;34m(self, model, n)\u001b[0m\n\u001b[0;32m     36\u001b[0m x \u001b[38;5;241m=\u001b[39m torch\u001b[38;5;241m.\u001b[39mrandn((n, \u001b[38;5;241m1\u001b[39m, \u001b[38;5;28mself\u001b[39m\u001b[38;5;241m.\u001b[39mimg_size, \u001b[38;5;28mself\u001b[39m\u001b[38;5;241m.\u001b[39mimg_size))\u001b[38;5;241m.\u001b[39mto(\u001b[38;5;28mself\u001b[39m\u001b[38;5;241m.\u001b[39mdevice)\n\u001b[0;32m     37\u001b[0m \u001b[38;5;28;01mfor\u001b[39;00m i \u001b[38;5;129;01min\u001b[39;00m tqdm(\u001b[38;5;28mreversed\u001b[39m(\u001b[38;5;28mrange\u001b[39m(\u001b[38;5;241m1\u001b[39m, \u001b[38;5;28mself\u001b[39m\u001b[38;5;241m.\u001b[39mnoise_steps)), position\u001b[38;5;241m=\u001b[39m\u001b[38;5;241m0\u001b[39m):\n\u001b[1;32m---> 38\u001b[0m     t \u001b[38;5;241m=\u001b[39m (torch\u001b[38;5;241m.\u001b[39mones(n) \u001b[38;5;241m*\u001b[39m i)\u001b[38;5;241m.\u001b[39mlong()\u001b[38;5;241m.\u001b[39mto(\u001b[38;5;28mself\u001b[39m\u001b[38;5;241m.\u001b[39mdevice)\n\u001b[0;32m     39\u001b[0m     predicted_noise \u001b[38;5;241m=\u001b[39m model(x, t)\n\u001b[0;32m     40\u001b[0m     alpha \u001b[38;5;241m=\u001b[39m \u001b[38;5;28mself\u001b[39m\u001b[38;5;241m.\u001b[39malpha[t][:, \u001b[38;5;28;01mNone\u001b[39;00m, \u001b[38;5;28;01mNone\u001b[39;00m, \u001b[38;5;28;01mNone\u001b[39;00m]\n",
      "\u001b[1;31mKeyboardInterrupt\u001b[0m: "
     ]
    }
   ],
   "source": [
    "original_images = []\n",
    "generated_images = []\n",
    "\n",
    "model.eval()\n",
    "with torch.no_grad():\n",
    "    for x, t in train_loader:\n",
    "        original_images.append(x)\n",
    "        sampled = diffusion.sample(model, n=x.shape[0])\n",
    "        generated_images.append(sampled)\n",
    "        \n",
    "original_images = torch.stack(original_images)\n",
    "generated_images = torch.stack(generated_images)"
   ]
  },
  {
   "cell_type": "code",
   "execution_count": 49,
   "id": "affbbcf3",
   "metadata": {},
   "outputs": [
    {
     "data": {
      "text/plain": [
       "torch.Size([111, 32, 1, 28, 28])"
      ]
     },
     "execution_count": 49,
     "metadata": {},
     "output_type": "execute_result"
    }
   ],
   "source": [
    "generated_images.size()"
   ]
  },
  {
   "cell_type": "code",
   "execution_count": 19,
   "id": "b9b03350",
   "metadata": {},
   "outputs": [
    {
     "ename": "NameError",
     "evalue": "name 'original_images' is not defined",
     "output_type": "error",
     "traceback": [
      "\u001b[1;31m---------------------------------------------------------------------------\u001b[0m",
      "\u001b[1;31mNameError\u001b[0m                                 Traceback (most recent call last)",
      "Cell \u001b[1;32mIn[19], line 1\u001b[0m\n\u001b[1;32m----> 1\u001b[0m original_images \u001b[38;5;241m=\u001b[39m torch\u001b[38;5;241m.\u001b[39mstack(original_images[:\u001b[38;5;241m-\u001b[39m\u001b[38;5;241m1\u001b[39m])\n\u001b[0;32m      2\u001b[0m generated_images \u001b[38;5;241m=\u001b[39m torch\u001b[38;5;241m.\u001b[39mstack(generated_images)\n",
      "\u001b[1;31mNameError\u001b[0m: name 'original_images' is not defined"
     ]
    }
   ],
   "source": [
    "original_images = torch.stack(original_images[:-1])\n",
    "generated_images = torch.stack(generated_images)"
   ]
  },
  {
   "cell_type": "code",
   "execution_count": 54,
   "id": "e1c9e77b",
   "metadata": {},
   "outputs": [
    {
     "ename": "RuntimeError",
     "evalue": "CUDA error: out of memory\nCUDA kernel errors might be asynchronously reported at some other API call, so the stacktrace below might be incorrect.\nFor debugging consider passing CUDA_LAUNCH_BLOCKING=1.\nCompile with `TORCH_USE_CUDA_DSA` to enable device-side assertions.\n",
     "output_type": "error",
     "traceback": [
      "\u001b[1;31m---------------------------------------------------------------------------\u001b[0m",
      "\u001b[1;31mRuntimeError\u001b[0m                              Traceback (most recent call last)",
      "Cell \u001b[1;32mIn[54], line 11\u001b[0m\n\u001b[0;32m      9\u001b[0m \u001b[38;5;28;01mfor\u001b[39;00m i \u001b[38;5;129;01min\u001b[39;00m \u001b[38;5;28mrange\u001b[39m(\u001b[38;5;28mlen\u001b[39m(generated_images)):\n\u001b[0;32m     10\u001b[0m     original_transformed\u001b[38;5;241m.\u001b[39mappend(transform(original_images[i]\u001b[38;5;241m.\u001b[39msqueeze()))\n\u001b[1;32m---> 11\u001b[0m     generated_transformed\u001b[38;5;241m.\u001b[39mappend(transform(generated_images[i]\u001b[38;5;241m.\u001b[39msqueeze()))\n\u001b[0;32m     13\u001b[0m original_transformed \u001b[38;5;241m=\u001b[39m torch\u001b[38;5;241m.\u001b[39mstack(original_transformed)\n\u001b[0;32m     14\u001b[0m generated_transformed \u001b[38;5;241m=\u001b[39m torch\u001b[38;5;241m.\u001b[39mstack(generated_transformed)\n",
      "File \u001b[1;32m~\\anaconda3\\envs\\pytorch3\\Lib\\site-packages\\torchvision\\transforms\\transforms.py:95\u001b[0m, in \u001b[0;36mCompose.__call__\u001b[1;34m(self, img)\u001b[0m\n\u001b[0;32m     93\u001b[0m \u001b[38;5;28;01mdef\u001b[39;00m \u001b[38;5;21m__call__\u001b[39m(\u001b[38;5;28mself\u001b[39m, img):\n\u001b[0;32m     94\u001b[0m     \u001b[38;5;28;01mfor\u001b[39;00m t \u001b[38;5;129;01min\u001b[39;00m \u001b[38;5;28mself\u001b[39m\u001b[38;5;241m.\u001b[39mtransforms:\n\u001b[1;32m---> 95\u001b[0m         img \u001b[38;5;241m=\u001b[39m t(img)\n\u001b[0;32m     96\u001b[0m     \u001b[38;5;28;01mreturn\u001b[39;00m img\n",
      "File \u001b[1;32m~\\anaconda3\\envs\\pytorch3\\Lib\\site-packages\\torchvision\\transforms\\transforms.py:479\u001b[0m, in \u001b[0;36mLambda.__call__\u001b[1;34m(self, img)\u001b[0m\n\u001b[0;32m    478\u001b[0m \u001b[38;5;28;01mdef\u001b[39;00m \u001b[38;5;21m__call__\u001b[39m(\u001b[38;5;28mself\u001b[39m, img):\n\u001b[1;32m--> 479\u001b[0m     \u001b[38;5;28;01mreturn\u001b[39;00m \u001b[38;5;28mself\u001b[39m\u001b[38;5;241m.\u001b[39mlambd(img)\n",
      "Cell \u001b[1;32mIn[54], line 3\u001b[0m, in \u001b[0;36m<lambda>\u001b[1;34m(x)\u001b[0m\n\u001b[0;32m      1\u001b[0m transform \u001b[38;5;241m=\u001b[39m torchvision\u001b[38;5;241m.\u001b[39mtransforms\u001b[38;5;241m.\u001b[39mCompose([\n\u001b[0;32m      2\u001b[0m     \u001b[38;5;66;03m#transforms.Grayscale(3)\u001b[39;00m\n\u001b[1;32m----> 3\u001b[0m     torchvision\u001b[38;5;241m.\u001b[39mtransforms\u001b[38;5;241m.\u001b[39mLambda(\u001b[38;5;28;01mlambda\u001b[39;00m x: x\u001b[38;5;241m.\u001b[39mrepeat(\u001b[38;5;241m1\u001b[39m, \u001b[38;5;241m1\u001b[39m, \u001b[38;5;241m3\u001b[39m, \u001b[38;5;241m1\u001b[39m, \u001b[38;5;241m1\u001b[39m))\n\u001b[0;32m      4\u001b[0m ])\n\u001b[0;32m      6\u001b[0m original_transformed \u001b[38;5;241m=\u001b[39m []\n\u001b[0;32m      7\u001b[0m generated_transformed \u001b[38;5;241m=\u001b[39m []\n",
      "\u001b[1;31mRuntimeError\u001b[0m: CUDA error: out of memory\nCUDA kernel errors might be asynchronously reported at some other API call, so the stacktrace below might be incorrect.\nFor debugging consider passing CUDA_LAUNCH_BLOCKING=1.\nCompile with `TORCH_USE_CUDA_DSA` to enable device-side assertions.\n"
     ]
    }
   ],
   "source": [
    "transform = torchvision.transforms.Compose([\n",
    "    #transforms.Grayscale(3)\n",
    "    torchvision.transforms.Lambda(lambda x: x.repeat(1, 1, 3, 1, 1))\n",
    "])\n",
    "\n",
    "original_transformed = []\n",
    "generated_transformed = []\n",
    "\n",
    "for i in range(len(generated_images)):\n",
    "    original_transformed.append(transform(original_images[i].squeeze()))\n",
    "    generated_transformed.append(transform(generated_images[i].squeeze()))\n",
    "    \n",
    "original_transformed = torch.stack(original_transformed)\n",
    "generated_transformed = torch.stack(generated_transformed)"
   ]
  },
  {
   "cell_type": "code",
   "execution_count": 50,
   "id": "1eb66a4f",
   "metadata": {},
   "outputs": [
    {
     "data": {
      "text/plain": [
       "torch.Size([111, 96, 28, 28])"
      ]
     },
     "execution_count": 50,
     "metadata": {},
     "output_type": "execute_result"
    }
   ],
   "source": [
    "generated_transformed.size()"
   ]
  },
  {
   "cell_type": "code",
   "execution_count": 47,
   "id": "98cd39a6",
   "metadata": {},
   "outputs": [],
   "source": [
    "generated_transformed = generated_transformed/255 - 1"
   ]
  },
  {
   "cell_type": "code",
   "execution_count": 48,
   "id": "c211769d",
   "metadata": {},
   "outputs": [
    {
     "ename": "RuntimeError",
     "evalue": "Given groups=1, weight of size [32, 3, 3, 3], expected input[32, 96, 299, 299] to have 3 channels, but got 96 channels instead",
     "output_type": "error",
     "traceback": [
      "\u001b[1;31m---------------------------------------------------------------------------\u001b[0m",
      "\u001b[1;31mRuntimeError\u001b[0m                              Traceback (most recent call last)",
      "Cell \u001b[1;32mIn[48], line 3\u001b[0m\n\u001b[0;32m      1\u001b[0m \u001b[38;5;28;01mimport\u001b[39;00m \u001b[38;5;21;01mnumpy\u001b[39;00m \u001b[38;5;28;01mas\u001b[39;00m \u001b[38;5;21;01mnp\u001b[39;00m\n\u001b[1;32m----> 3\u001b[0m original_activations \u001b[38;5;241m=\u001b[39m get_activations(original_transformed, inception_model, device\u001b[38;5;241m=\u001b[39mdevice)\n\u001b[0;32m      4\u001b[0m generated_activations \u001b[38;5;241m=\u001b[39m get_activations(generated_transformed, inception_model, device\u001b[38;5;241m=\u001b[39mdevice)\n\u001b[0;32m      6\u001b[0m \u001b[38;5;66;03m# Calculate mean and covariance of the activations\u001b[39;00m\n",
      "Cell \u001b[1;32mIn[38], line 27\u001b[0m, in \u001b[0;36mget_activations\u001b[1;34m(images, model, batch_size, dims, device)\u001b[0m\n\u001b[0;32m     24\u001b[0m batch \u001b[38;5;241m=\u001b[39m images[start:end]\u001b[38;5;241m.\u001b[39mto(device)\n\u001b[0;32m     25\u001b[0m \u001b[38;5;66;03m#print(batch.size())\u001b[39;00m\n\u001b[0;32m     26\u001b[0m \u001b[38;5;66;03m#raise\u001b[39;00m\n\u001b[1;32m---> 27\u001b[0m pred \u001b[38;5;241m=\u001b[39m model(batch)[\u001b[38;5;241m0\u001b[39m]\n\u001b[0;32m     28\u001b[0m pred \u001b[38;5;241m=\u001b[39m F\u001b[38;5;241m.\u001b[39madaptive_avg_pool2d(pred, output_size\u001b[38;5;241m=\u001b[39m(\u001b[38;5;241m1\u001b[39m,\u001b[38;5;241m1\u001b[39m))\n\u001b[0;32m     29\u001b[0m pred \u001b[38;5;241m=\u001b[39m pred\u001b[38;5;241m.\u001b[39msqueeze(\u001b[38;5;241m3\u001b[39m)\u001b[38;5;241m.\u001b[39msqueeze(\u001b[38;5;241m2\u001b[39m)\u001b[38;5;241m.\u001b[39mcpu()\u001b[38;5;241m.\u001b[39mnumpy()\n",
      "File \u001b[1;32m~\\anaconda3\\envs\\pytorch3\\Lib\\site-packages\\torch\\nn\\modules\\module.py:1511\u001b[0m, in \u001b[0;36mModule._wrapped_call_impl\u001b[1;34m(self, *args, **kwargs)\u001b[0m\n\u001b[0;32m   1509\u001b[0m     \u001b[38;5;28;01mreturn\u001b[39;00m \u001b[38;5;28mself\u001b[39m\u001b[38;5;241m.\u001b[39m_compiled_call_impl(\u001b[38;5;241m*\u001b[39margs, \u001b[38;5;241m*\u001b[39m\u001b[38;5;241m*\u001b[39mkwargs)  \u001b[38;5;66;03m# type: ignore[misc]\u001b[39;00m\n\u001b[0;32m   1510\u001b[0m \u001b[38;5;28;01melse\u001b[39;00m:\n\u001b[1;32m-> 1511\u001b[0m     \u001b[38;5;28;01mreturn\u001b[39;00m \u001b[38;5;28mself\u001b[39m\u001b[38;5;241m.\u001b[39m_call_impl(\u001b[38;5;241m*\u001b[39margs, \u001b[38;5;241m*\u001b[39m\u001b[38;5;241m*\u001b[39mkwargs)\n",
      "File \u001b[1;32m~\\anaconda3\\envs\\pytorch3\\Lib\\site-packages\\torch\\nn\\modules\\module.py:1520\u001b[0m, in \u001b[0;36mModule._call_impl\u001b[1;34m(self, *args, **kwargs)\u001b[0m\n\u001b[0;32m   1515\u001b[0m \u001b[38;5;66;03m# If we don't have any hooks, we want to skip the rest of the logic in\u001b[39;00m\n\u001b[0;32m   1516\u001b[0m \u001b[38;5;66;03m# this function, and just call forward.\u001b[39;00m\n\u001b[0;32m   1517\u001b[0m \u001b[38;5;28;01mif\u001b[39;00m \u001b[38;5;129;01mnot\u001b[39;00m (\u001b[38;5;28mself\u001b[39m\u001b[38;5;241m.\u001b[39m_backward_hooks \u001b[38;5;129;01mor\u001b[39;00m \u001b[38;5;28mself\u001b[39m\u001b[38;5;241m.\u001b[39m_backward_pre_hooks \u001b[38;5;129;01mor\u001b[39;00m \u001b[38;5;28mself\u001b[39m\u001b[38;5;241m.\u001b[39m_forward_hooks \u001b[38;5;129;01mor\u001b[39;00m \u001b[38;5;28mself\u001b[39m\u001b[38;5;241m.\u001b[39m_forward_pre_hooks\n\u001b[0;32m   1518\u001b[0m         \u001b[38;5;129;01mor\u001b[39;00m _global_backward_pre_hooks \u001b[38;5;129;01mor\u001b[39;00m _global_backward_hooks\n\u001b[0;32m   1519\u001b[0m         \u001b[38;5;129;01mor\u001b[39;00m _global_forward_hooks \u001b[38;5;129;01mor\u001b[39;00m _global_forward_pre_hooks):\n\u001b[1;32m-> 1520\u001b[0m     \u001b[38;5;28;01mreturn\u001b[39;00m forward_call(\u001b[38;5;241m*\u001b[39margs, \u001b[38;5;241m*\u001b[39m\u001b[38;5;241m*\u001b[39mkwargs)\n\u001b[0;32m   1522\u001b[0m \u001b[38;5;28;01mtry\u001b[39;00m:\n\u001b[0;32m   1523\u001b[0m     result \u001b[38;5;241m=\u001b[39m \u001b[38;5;28;01mNone\u001b[39;00m\n",
      "File \u001b[1;32mC:\\UZH\\MasterProject\\inception.py:154\u001b[0m, in \u001b[0;36mInceptionV3.forward\u001b[1;34m(self, inp)\u001b[0m\n\u001b[0;32m    151\u001b[0m     x \u001b[38;5;241m=\u001b[39m \u001b[38;5;241m2\u001b[39m \u001b[38;5;241m*\u001b[39m x \u001b[38;5;241m-\u001b[39m \u001b[38;5;241m1\u001b[39m  \u001b[38;5;66;03m# Scale from range (0, 1) to range (-1, 1)\u001b[39;00m\n\u001b[0;32m    153\u001b[0m \u001b[38;5;28;01mfor\u001b[39;00m idx, block \u001b[38;5;129;01min\u001b[39;00m \u001b[38;5;28menumerate\u001b[39m(\u001b[38;5;28mself\u001b[39m\u001b[38;5;241m.\u001b[39mblocks):\n\u001b[1;32m--> 154\u001b[0m     x \u001b[38;5;241m=\u001b[39m block(x)\n\u001b[0;32m    155\u001b[0m     \u001b[38;5;28;01mif\u001b[39;00m idx \u001b[38;5;129;01min\u001b[39;00m \u001b[38;5;28mself\u001b[39m\u001b[38;5;241m.\u001b[39moutput_blocks:\n\u001b[0;32m    156\u001b[0m         outp\u001b[38;5;241m.\u001b[39mappend(x)\n",
      "File \u001b[1;32m~\\anaconda3\\envs\\pytorch3\\Lib\\site-packages\\torch\\nn\\modules\\module.py:1511\u001b[0m, in \u001b[0;36mModule._wrapped_call_impl\u001b[1;34m(self, *args, **kwargs)\u001b[0m\n\u001b[0;32m   1509\u001b[0m     \u001b[38;5;28;01mreturn\u001b[39;00m \u001b[38;5;28mself\u001b[39m\u001b[38;5;241m.\u001b[39m_compiled_call_impl(\u001b[38;5;241m*\u001b[39margs, \u001b[38;5;241m*\u001b[39m\u001b[38;5;241m*\u001b[39mkwargs)  \u001b[38;5;66;03m# type: ignore[misc]\u001b[39;00m\n\u001b[0;32m   1510\u001b[0m \u001b[38;5;28;01melse\u001b[39;00m:\n\u001b[1;32m-> 1511\u001b[0m     \u001b[38;5;28;01mreturn\u001b[39;00m \u001b[38;5;28mself\u001b[39m\u001b[38;5;241m.\u001b[39m_call_impl(\u001b[38;5;241m*\u001b[39margs, \u001b[38;5;241m*\u001b[39m\u001b[38;5;241m*\u001b[39mkwargs)\n",
      "File \u001b[1;32m~\\anaconda3\\envs\\pytorch3\\Lib\\site-packages\\torch\\nn\\modules\\module.py:1520\u001b[0m, in \u001b[0;36mModule._call_impl\u001b[1;34m(self, *args, **kwargs)\u001b[0m\n\u001b[0;32m   1515\u001b[0m \u001b[38;5;66;03m# If we don't have any hooks, we want to skip the rest of the logic in\u001b[39;00m\n\u001b[0;32m   1516\u001b[0m \u001b[38;5;66;03m# this function, and just call forward.\u001b[39;00m\n\u001b[0;32m   1517\u001b[0m \u001b[38;5;28;01mif\u001b[39;00m \u001b[38;5;129;01mnot\u001b[39;00m (\u001b[38;5;28mself\u001b[39m\u001b[38;5;241m.\u001b[39m_backward_hooks \u001b[38;5;129;01mor\u001b[39;00m \u001b[38;5;28mself\u001b[39m\u001b[38;5;241m.\u001b[39m_backward_pre_hooks \u001b[38;5;129;01mor\u001b[39;00m \u001b[38;5;28mself\u001b[39m\u001b[38;5;241m.\u001b[39m_forward_hooks \u001b[38;5;129;01mor\u001b[39;00m \u001b[38;5;28mself\u001b[39m\u001b[38;5;241m.\u001b[39m_forward_pre_hooks\n\u001b[0;32m   1518\u001b[0m         \u001b[38;5;129;01mor\u001b[39;00m _global_backward_pre_hooks \u001b[38;5;129;01mor\u001b[39;00m _global_backward_hooks\n\u001b[0;32m   1519\u001b[0m         \u001b[38;5;129;01mor\u001b[39;00m _global_forward_hooks \u001b[38;5;129;01mor\u001b[39;00m _global_forward_pre_hooks):\n\u001b[1;32m-> 1520\u001b[0m     \u001b[38;5;28;01mreturn\u001b[39;00m forward_call(\u001b[38;5;241m*\u001b[39margs, \u001b[38;5;241m*\u001b[39m\u001b[38;5;241m*\u001b[39mkwargs)\n\u001b[0;32m   1522\u001b[0m \u001b[38;5;28;01mtry\u001b[39;00m:\n\u001b[0;32m   1523\u001b[0m     result \u001b[38;5;241m=\u001b[39m \u001b[38;5;28;01mNone\u001b[39;00m\n",
      "File \u001b[1;32m~\\anaconda3\\envs\\pytorch3\\Lib\\site-packages\\torch\\nn\\modules\\container.py:217\u001b[0m, in \u001b[0;36mSequential.forward\u001b[1;34m(self, input)\u001b[0m\n\u001b[0;32m    215\u001b[0m \u001b[38;5;28;01mdef\u001b[39;00m \u001b[38;5;21mforward\u001b[39m(\u001b[38;5;28mself\u001b[39m, \u001b[38;5;28minput\u001b[39m):\n\u001b[0;32m    216\u001b[0m     \u001b[38;5;28;01mfor\u001b[39;00m module \u001b[38;5;129;01min\u001b[39;00m \u001b[38;5;28mself\u001b[39m:\n\u001b[1;32m--> 217\u001b[0m         \u001b[38;5;28minput\u001b[39m \u001b[38;5;241m=\u001b[39m module(\u001b[38;5;28minput\u001b[39m)\n\u001b[0;32m    218\u001b[0m     \u001b[38;5;28;01mreturn\u001b[39;00m \u001b[38;5;28minput\u001b[39m\n",
      "File \u001b[1;32m~\\anaconda3\\envs\\pytorch3\\Lib\\site-packages\\torch\\nn\\modules\\module.py:1511\u001b[0m, in \u001b[0;36mModule._wrapped_call_impl\u001b[1;34m(self, *args, **kwargs)\u001b[0m\n\u001b[0;32m   1509\u001b[0m     \u001b[38;5;28;01mreturn\u001b[39;00m \u001b[38;5;28mself\u001b[39m\u001b[38;5;241m.\u001b[39m_compiled_call_impl(\u001b[38;5;241m*\u001b[39margs, \u001b[38;5;241m*\u001b[39m\u001b[38;5;241m*\u001b[39mkwargs)  \u001b[38;5;66;03m# type: ignore[misc]\u001b[39;00m\n\u001b[0;32m   1510\u001b[0m \u001b[38;5;28;01melse\u001b[39;00m:\n\u001b[1;32m-> 1511\u001b[0m     \u001b[38;5;28;01mreturn\u001b[39;00m \u001b[38;5;28mself\u001b[39m\u001b[38;5;241m.\u001b[39m_call_impl(\u001b[38;5;241m*\u001b[39margs, \u001b[38;5;241m*\u001b[39m\u001b[38;5;241m*\u001b[39mkwargs)\n",
      "File \u001b[1;32m~\\anaconda3\\envs\\pytorch3\\Lib\\site-packages\\torch\\nn\\modules\\module.py:1520\u001b[0m, in \u001b[0;36mModule._call_impl\u001b[1;34m(self, *args, **kwargs)\u001b[0m\n\u001b[0;32m   1515\u001b[0m \u001b[38;5;66;03m# If we don't have any hooks, we want to skip the rest of the logic in\u001b[39;00m\n\u001b[0;32m   1516\u001b[0m \u001b[38;5;66;03m# this function, and just call forward.\u001b[39;00m\n\u001b[0;32m   1517\u001b[0m \u001b[38;5;28;01mif\u001b[39;00m \u001b[38;5;129;01mnot\u001b[39;00m (\u001b[38;5;28mself\u001b[39m\u001b[38;5;241m.\u001b[39m_backward_hooks \u001b[38;5;129;01mor\u001b[39;00m \u001b[38;5;28mself\u001b[39m\u001b[38;5;241m.\u001b[39m_backward_pre_hooks \u001b[38;5;129;01mor\u001b[39;00m \u001b[38;5;28mself\u001b[39m\u001b[38;5;241m.\u001b[39m_forward_hooks \u001b[38;5;129;01mor\u001b[39;00m \u001b[38;5;28mself\u001b[39m\u001b[38;5;241m.\u001b[39m_forward_pre_hooks\n\u001b[0;32m   1518\u001b[0m         \u001b[38;5;129;01mor\u001b[39;00m _global_backward_pre_hooks \u001b[38;5;129;01mor\u001b[39;00m _global_backward_hooks\n\u001b[0;32m   1519\u001b[0m         \u001b[38;5;129;01mor\u001b[39;00m _global_forward_hooks \u001b[38;5;129;01mor\u001b[39;00m _global_forward_pre_hooks):\n\u001b[1;32m-> 1520\u001b[0m     \u001b[38;5;28;01mreturn\u001b[39;00m forward_call(\u001b[38;5;241m*\u001b[39margs, \u001b[38;5;241m*\u001b[39m\u001b[38;5;241m*\u001b[39mkwargs)\n\u001b[0;32m   1522\u001b[0m \u001b[38;5;28;01mtry\u001b[39;00m:\n\u001b[0;32m   1523\u001b[0m     result \u001b[38;5;241m=\u001b[39m \u001b[38;5;28;01mNone\u001b[39;00m\n",
      "File \u001b[1;32m~\\anaconda3\\envs\\pytorch3\\Lib\\site-packages\\torchvision\\models\\inception.py:405\u001b[0m, in \u001b[0;36mBasicConv2d.forward\u001b[1;34m(self, x)\u001b[0m\n\u001b[0;32m    404\u001b[0m \u001b[38;5;28;01mdef\u001b[39;00m \u001b[38;5;21mforward\u001b[39m(\u001b[38;5;28mself\u001b[39m, x: Tensor) \u001b[38;5;241m-\u001b[39m\u001b[38;5;241m>\u001b[39m Tensor:\n\u001b[1;32m--> 405\u001b[0m     x \u001b[38;5;241m=\u001b[39m \u001b[38;5;28mself\u001b[39m\u001b[38;5;241m.\u001b[39mconv(x)\n\u001b[0;32m    406\u001b[0m     x \u001b[38;5;241m=\u001b[39m \u001b[38;5;28mself\u001b[39m\u001b[38;5;241m.\u001b[39mbn(x)\n\u001b[0;32m    407\u001b[0m     \u001b[38;5;28;01mreturn\u001b[39;00m F\u001b[38;5;241m.\u001b[39mrelu(x, inplace\u001b[38;5;241m=\u001b[39m\u001b[38;5;28;01mTrue\u001b[39;00m)\n",
      "File \u001b[1;32m~\\anaconda3\\envs\\pytorch3\\Lib\\site-packages\\torch\\nn\\modules\\module.py:1511\u001b[0m, in \u001b[0;36mModule._wrapped_call_impl\u001b[1;34m(self, *args, **kwargs)\u001b[0m\n\u001b[0;32m   1509\u001b[0m     \u001b[38;5;28;01mreturn\u001b[39;00m \u001b[38;5;28mself\u001b[39m\u001b[38;5;241m.\u001b[39m_compiled_call_impl(\u001b[38;5;241m*\u001b[39margs, \u001b[38;5;241m*\u001b[39m\u001b[38;5;241m*\u001b[39mkwargs)  \u001b[38;5;66;03m# type: ignore[misc]\u001b[39;00m\n\u001b[0;32m   1510\u001b[0m \u001b[38;5;28;01melse\u001b[39;00m:\n\u001b[1;32m-> 1511\u001b[0m     \u001b[38;5;28;01mreturn\u001b[39;00m \u001b[38;5;28mself\u001b[39m\u001b[38;5;241m.\u001b[39m_call_impl(\u001b[38;5;241m*\u001b[39margs, \u001b[38;5;241m*\u001b[39m\u001b[38;5;241m*\u001b[39mkwargs)\n",
      "File \u001b[1;32m~\\anaconda3\\envs\\pytorch3\\Lib\\site-packages\\torch\\nn\\modules\\module.py:1520\u001b[0m, in \u001b[0;36mModule._call_impl\u001b[1;34m(self, *args, **kwargs)\u001b[0m\n\u001b[0;32m   1515\u001b[0m \u001b[38;5;66;03m# If we don't have any hooks, we want to skip the rest of the logic in\u001b[39;00m\n\u001b[0;32m   1516\u001b[0m \u001b[38;5;66;03m# this function, and just call forward.\u001b[39;00m\n\u001b[0;32m   1517\u001b[0m \u001b[38;5;28;01mif\u001b[39;00m \u001b[38;5;129;01mnot\u001b[39;00m (\u001b[38;5;28mself\u001b[39m\u001b[38;5;241m.\u001b[39m_backward_hooks \u001b[38;5;129;01mor\u001b[39;00m \u001b[38;5;28mself\u001b[39m\u001b[38;5;241m.\u001b[39m_backward_pre_hooks \u001b[38;5;129;01mor\u001b[39;00m \u001b[38;5;28mself\u001b[39m\u001b[38;5;241m.\u001b[39m_forward_hooks \u001b[38;5;129;01mor\u001b[39;00m \u001b[38;5;28mself\u001b[39m\u001b[38;5;241m.\u001b[39m_forward_pre_hooks\n\u001b[0;32m   1518\u001b[0m         \u001b[38;5;129;01mor\u001b[39;00m _global_backward_pre_hooks \u001b[38;5;129;01mor\u001b[39;00m _global_backward_hooks\n\u001b[0;32m   1519\u001b[0m         \u001b[38;5;129;01mor\u001b[39;00m _global_forward_hooks \u001b[38;5;129;01mor\u001b[39;00m _global_forward_pre_hooks):\n\u001b[1;32m-> 1520\u001b[0m     \u001b[38;5;28;01mreturn\u001b[39;00m forward_call(\u001b[38;5;241m*\u001b[39margs, \u001b[38;5;241m*\u001b[39m\u001b[38;5;241m*\u001b[39mkwargs)\n\u001b[0;32m   1522\u001b[0m \u001b[38;5;28;01mtry\u001b[39;00m:\n\u001b[0;32m   1523\u001b[0m     result \u001b[38;5;241m=\u001b[39m \u001b[38;5;28;01mNone\u001b[39;00m\n",
      "File \u001b[1;32m~\\anaconda3\\envs\\pytorch3\\Lib\\site-packages\\torch\\nn\\modules\\conv.py:460\u001b[0m, in \u001b[0;36mConv2d.forward\u001b[1;34m(self, input)\u001b[0m\n\u001b[0;32m    459\u001b[0m \u001b[38;5;28;01mdef\u001b[39;00m \u001b[38;5;21mforward\u001b[39m(\u001b[38;5;28mself\u001b[39m, \u001b[38;5;28minput\u001b[39m: Tensor) \u001b[38;5;241m-\u001b[39m\u001b[38;5;241m>\u001b[39m Tensor:\n\u001b[1;32m--> 460\u001b[0m     \u001b[38;5;28;01mreturn\u001b[39;00m \u001b[38;5;28mself\u001b[39m\u001b[38;5;241m.\u001b[39m_conv_forward(\u001b[38;5;28minput\u001b[39m, \u001b[38;5;28mself\u001b[39m\u001b[38;5;241m.\u001b[39mweight, \u001b[38;5;28mself\u001b[39m\u001b[38;5;241m.\u001b[39mbias)\n",
      "File \u001b[1;32m~\\anaconda3\\envs\\pytorch3\\Lib\\site-packages\\torch\\nn\\modules\\conv.py:456\u001b[0m, in \u001b[0;36mConv2d._conv_forward\u001b[1;34m(self, input, weight, bias)\u001b[0m\n\u001b[0;32m    452\u001b[0m \u001b[38;5;28;01mif\u001b[39;00m \u001b[38;5;28mself\u001b[39m\u001b[38;5;241m.\u001b[39mpadding_mode \u001b[38;5;241m!=\u001b[39m \u001b[38;5;124m'\u001b[39m\u001b[38;5;124mzeros\u001b[39m\u001b[38;5;124m'\u001b[39m:\n\u001b[0;32m    453\u001b[0m     \u001b[38;5;28;01mreturn\u001b[39;00m F\u001b[38;5;241m.\u001b[39mconv2d(F\u001b[38;5;241m.\u001b[39mpad(\u001b[38;5;28minput\u001b[39m, \u001b[38;5;28mself\u001b[39m\u001b[38;5;241m.\u001b[39m_reversed_padding_repeated_twice, mode\u001b[38;5;241m=\u001b[39m\u001b[38;5;28mself\u001b[39m\u001b[38;5;241m.\u001b[39mpadding_mode),\n\u001b[0;32m    454\u001b[0m                     weight, bias, \u001b[38;5;28mself\u001b[39m\u001b[38;5;241m.\u001b[39mstride,\n\u001b[0;32m    455\u001b[0m                     _pair(\u001b[38;5;241m0\u001b[39m), \u001b[38;5;28mself\u001b[39m\u001b[38;5;241m.\u001b[39mdilation, \u001b[38;5;28mself\u001b[39m\u001b[38;5;241m.\u001b[39mgroups)\n\u001b[1;32m--> 456\u001b[0m \u001b[38;5;28;01mreturn\u001b[39;00m F\u001b[38;5;241m.\u001b[39mconv2d(\u001b[38;5;28minput\u001b[39m, weight, bias, \u001b[38;5;28mself\u001b[39m\u001b[38;5;241m.\u001b[39mstride,\n\u001b[0;32m    457\u001b[0m                 \u001b[38;5;28mself\u001b[39m\u001b[38;5;241m.\u001b[39mpadding, \u001b[38;5;28mself\u001b[39m\u001b[38;5;241m.\u001b[39mdilation, \u001b[38;5;28mself\u001b[39m\u001b[38;5;241m.\u001b[39mgroups)\n",
      "\u001b[1;31mRuntimeError\u001b[0m: Given groups=1, weight of size [32, 3, 3, 3], expected input[32, 96, 299, 299] to have 3 channels, but got 96 channels instead"
     ]
    }
   ],
   "source": [
    "import numpy as np\n",
    "\n",
    "original_activations = get_activations(original_transformed, inception_model, device=device)\n",
    "generated_activations = get_activations(generated_transformed, inception_model, device=device)\n",
    "\n",
    "# Calculate mean and covariance of the activations\n",
    "mu1 = np.mean(original_activations, axis=0)\n",
    "sigma1 = np.cov(original_activations, rowvar=False)\n",
    "mu2 = np.mean(generated_activations, axis=0)\n",
    "sigma2 = np.cov(generated_activations, rowvar=False)\n",
    "\n",
    "# Calculate FID score\n",
    "fid_score = calculate_fid(mu1, sigma1, mu2, sigma2)\n",
    "print('FID score:', fid_score)"
   ]
  },
  {
   "cell_type": "markdown",
   "id": "c3db78d2",
   "metadata": {},
   "source": [
    "### Use GMM to sample images"
   ]
  },
  {
   "cell_type": "code",
   "execution_count": 20,
   "id": "589200b4",
   "metadata": {},
   "outputs": [
    {
     "data": {
      "text/html": [
       "<style>#sk-container-id-2 {color: black;background-color: white;}#sk-container-id-2 pre{padding: 0;}#sk-container-id-2 div.sk-toggleable {background-color: white;}#sk-container-id-2 label.sk-toggleable__label {cursor: pointer;display: block;width: 100%;margin-bottom: 0;padding: 0.3em;box-sizing: border-box;text-align: center;}#sk-container-id-2 label.sk-toggleable__label-arrow:before {content: \"▸\";float: left;margin-right: 0.25em;color: #696969;}#sk-container-id-2 label.sk-toggleable__label-arrow:hover:before {color: black;}#sk-container-id-2 div.sk-estimator:hover label.sk-toggleable__label-arrow:before {color: black;}#sk-container-id-2 div.sk-toggleable__content {max-height: 0;max-width: 0;overflow: hidden;text-align: left;background-color: #f0f8ff;}#sk-container-id-2 div.sk-toggleable__content pre {margin: 0.2em;color: black;border-radius: 0.25em;background-color: #f0f8ff;}#sk-container-id-2 input.sk-toggleable__control:checked~div.sk-toggleable__content {max-height: 200px;max-width: 100%;overflow: auto;}#sk-container-id-2 input.sk-toggleable__control:checked~label.sk-toggleable__label-arrow:before {content: \"▾\";}#sk-container-id-2 div.sk-estimator input.sk-toggleable__control:checked~label.sk-toggleable__label {background-color: #d4ebff;}#sk-container-id-2 div.sk-label input.sk-toggleable__control:checked~label.sk-toggleable__label {background-color: #d4ebff;}#sk-container-id-2 input.sk-hidden--visually {border: 0;clip: rect(1px 1px 1px 1px);clip: rect(1px, 1px, 1px, 1px);height: 1px;margin: -1px;overflow: hidden;padding: 0;position: absolute;width: 1px;}#sk-container-id-2 div.sk-estimator {font-family: monospace;background-color: #f0f8ff;border: 1px dotted black;border-radius: 0.25em;box-sizing: border-box;margin-bottom: 0.5em;}#sk-container-id-2 div.sk-estimator:hover {background-color: #d4ebff;}#sk-container-id-2 div.sk-parallel-item::after {content: \"\";width: 100%;border-bottom: 1px solid gray;flex-grow: 1;}#sk-container-id-2 div.sk-label:hover label.sk-toggleable__label {background-color: #d4ebff;}#sk-container-id-2 div.sk-serial::before {content: \"\";position: absolute;border-left: 1px solid gray;box-sizing: border-box;top: 0;bottom: 0;left: 50%;z-index: 0;}#sk-container-id-2 div.sk-serial {display: flex;flex-direction: column;align-items: center;background-color: white;padding-right: 0.2em;padding-left: 0.2em;position: relative;}#sk-container-id-2 div.sk-item {position: relative;z-index: 1;}#sk-container-id-2 div.sk-parallel {display: flex;align-items: stretch;justify-content: center;background-color: white;position: relative;}#sk-container-id-2 div.sk-item::before, #sk-container-id-2 div.sk-parallel-item::before {content: \"\";position: absolute;border-left: 1px solid gray;box-sizing: border-box;top: 0;bottom: 0;left: 50%;z-index: -1;}#sk-container-id-2 div.sk-parallel-item {display: flex;flex-direction: column;z-index: 1;position: relative;background-color: white;}#sk-container-id-2 div.sk-parallel-item:first-child::after {align-self: flex-end;width: 50%;}#sk-container-id-2 div.sk-parallel-item:last-child::after {align-self: flex-start;width: 50%;}#sk-container-id-2 div.sk-parallel-item:only-child::after {width: 0;}#sk-container-id-2 div.sk-dashed-wrapped {border: 1px dashed gray;margin: 0 0.4em 0.5em 0.4em;box-sizing: border-box;padding-bottom: 0.4em;background-color: white;}#sk-container-id-2 div.sk-label label {font-family: monospace;font-weight: bold;display: inline-block;line-height: 1.2em;}#sk-container-id-2 div.sk-label-container {text-align: center;}#sk-container-id-2 div.sk-container {/* jupyter's `normalize.less` sets `[hidden] { display: none; }` but bootstrap.min.css set `[hidden] { display: none !important; }` so we also need the `!important` here to be able to override the default hidden behavior on the sphinx rendered scikit-learn.org. See: https://github.com/scikit-learn/scikit-learn/issues/21755 */display: inline-block !important;position: relative;}#sk-container-id-2 div.sk-text-repr-fallback {display: none;}</style><div id=\"sk-container-id-2\" class=\"sk-top-container\"><div class=\"sk-text-repr-fallback\"><pre>GaussianMixture(n_components=3)</pre><b>In a Jupyter environment, please rerun this cell to show the HTML representation or trust the notebook. <br />On GitHub, the HTML representation is unable to render, please try loading this page with nbviewer.org.</b></div><div class=\"sk-container\" hidden><div class=\"sk-item\"><div class=\"sk-estimator sk-toggleable\"><input class=\"sk-toggleable__control sk-hidden--visually\" id=\"sk-estimator-id-2\" type=\"checkbox\" checked><label for=\"sk-estimator-id-2\" class=\"sk-toggleable__label sk-toggleable__label-arrow\">GaussianMixture</label><div class=\"sk-toggleable__content\"><pre>GaussianMixture(n_components=3)</pre></div></div></div></div></div>"
      ],
      "text/plain": [
       "GaussianMixture(n_components=3)"
      ]
     },
     "execution_count": 20,
     "metadata": {},
     "output_type": "execute_result"
    }
   ],
   "source": [
    "from sklearn.mixture import GaussianMixture\n",
    "\n",
    "test_dataset = torchvision.datasets.MNIST(root=\"./data\", train=False, transform=transforms, download=True)\n",
    "test_loader = DataLoader(test_dataset, batch_size=64, shuffle=True)\n",
    "\n",
    "diffusion = coldDiff()\n",
    "\n",
    "fully_degraded_images = []\n",
    "\n",
    "for x, _ in test_loader:\n",
    "    x = x.to(device)\n",
    "    t = diffusion.sample_timesteps(x.shape[0]).to(device)\n",
    "    x_t = diffusion.blur(x, t)\n",
    "    flattened_images = x_t.view(x_t.size(0), -1).detach().cpu().numpy()\n",
    "    fully_degraded_images.extend(flattened_images)\n",
    "\n",
    "    \n",
    "fully_degraded_images = np.array(fully_degraded_images)\n",
    "\n",
    "gmm = GaussianMixture(n_components=3)\n",
    "gmm.fit(fully_degraded_images)"
   ]
  },
  {
   "cell_type": "code",
   "execution_count": 22,
   "id": "ee06e204",
   "metadata": {},
   "outputs": [
    {
     "data": {
      "image/png": "[encoded data removed]",
      "text/plain": [
       "<Figure size 3200x3200 with 1 Axes>"
      ]
     },
     "metadata": {},
     "output_type": "display_data"
    }
   ],
   "source": [
    "n_samples = 100\n",
    "sampled_images = gmm.sample(n_samples)[0]\n",
    "initial_images = torch.tensor(sampled_images).float().to(device)\n",
    "initial_images = initial_images.view(n_samples, 1, 28, 28)\n",
    "plot_images(initial_images)"
   ]
  },
  {
   "cell_type": "code",
   "execution_count": 15,
   "id": "d1e78fea",
   "metadata": {},
   "outputs": [
    {
     "data": {
      "text/plain": [
       "torch.Size([100, 1])"
      ]
     },
     "execution_count": 15,
     "metadata": {},
     "output_type": "execute_result"
    }
   ],
   "source": [
    "initial_images.shape"
   ]
  },
  {
   "cell_type": "code",
   "execution_count": 17,
   "id": "c6e486c4",
   "metadata": {},
   "outputs": [],
   "source": [
    "sampled_intensities = gmm.sample(n_samples)"
   ]
  },
  {
   "cell_type": "code",
   "execution_count": 19,
   "id": "61ac0f83",
   "metadata": {},
   "outputs": [
    {
     "data": {
      "text/plain": [
       "2"
      ]
     },
     "execution_count": 19,
     "metadata": {},
     "output_type": "execute_result"
    }
   ],
   "source": [
    "len(sampled_intensities)"
   ]
  },
  {
   "cell_type": "code",
   "execution_count": 23,
   "id": "1486c520",
   "metadata": {},
   "outputs": [],
   "source": [
    "import joblib"
   ]
  },
  {
   "cell_type": "code",
   "execution_count": 24,
   "id": "f4b9998b",
   "metadata": {},
   "outputs": [
    {
     "data": {
      "text/plain": [
       "['Models/DM/gmm_blur_coldDiff.joblib']"
      ]
     },
     "execution_count": 24,
     "metadata": {},
     "output_type": "execute_result"
    }
   ],
   "source": [
    "joblib.dump(gmm, 'Models/DM/gmm_blur_coldDiff.joblib')"
   ]
  },
  {
   "cell_type": "code",
   "execution_count": null,
   "id": "ebba0697",
   "metadata": {},
   "outputs": [],
   "source": []
  }
 ],
 "metadata": {
  "kernelspec": {
   "display_name": "base",
   "language": "python",
   "name": "python3"
  },
  "language_info": {
   "codemirror_mode": {
    "name": "ipython",
    "version": 3
   },
   "file_extension": ".py",
   "mimetype": "text/x-python",
   "name": "python",
   "nbconvert_exporter": "python",
   "pygments_lexer": "ipython3",
   "version": "3.11.5"
  }
 },
 "nbformat": 4,
 "nbformat_minor": 5
}
