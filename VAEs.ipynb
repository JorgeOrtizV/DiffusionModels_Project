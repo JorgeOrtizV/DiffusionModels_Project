{
 "cells": [
  {
   "cell_type": "code",
   "execution_count": 1,
   "id": "33f0614b",
   "metadata": {},
   "outputs": [],
   "source": [
    "import os\n",
    "\n",
    "import torch\n",
    "from torch import nn"
   ]
  },
  {
   "cell_type": "code",
   "execution_count": 2,
   "id": "89cd8644",
   "metadata": {},
   "outputs": [],
   "source": [
    "class VAE(nn.Module):\n",
    "    def __init__(self, input_dim, hidden_dim=200, z_dim=20):\n",
    "        super().__init__()\n",
    "        # Encoder\n",
    "        self.linear1 = nn.Linear(input_dim, hidden_dim)\n",
    "        self.linear_mu = nn.Linear(hidden_dim, z_dim)\n",
    "        self.linear_sigma = nn.Linear(hidden_dim, z_dim)\n",
    "        \n",
    "        # Decoder\n",
    "        self.linear_2h = nn.Linear(z_dim, hidden_dim)\n",
    "        self.linear_2img = nn.Linear(hidden_dim, input_dim)\n",
    "        \n",
    "        # Multipurpose\n",
    "        self.relu = nn.ReLU() # LeakyReLU\n",
    "        self.flat = nn.Flatten()\n",
    "    \n",
    "    def encode(self, x):\n",
    "        #q_phi(z|x)\n",
    "        #x = self.flat(x)\n",
    "        z = self.linear1(x)\n",
    "        z = self.relu(z)\n",
    "        mu = self.linear_mu(z)\n",
    "        sigma = self.linear_sigma(z)\n",
    "        \n",
    "        return mu, sigma\n",
    "    \n",
    "    def decode(self, z):\n",
    "        # p_theta(x|z)\n",
    "        h = self.linear_2h(z)\n",
    "        h = self.relu(h)\n",
    "        img = self.linear_2img(h)\n",
    "        \n",
    "        return torch.sigmoid(img)\n",
    "    \n",
    "    def forward(self, x):\n",
    "        mu, sigma = self.encode(x)\n",
    "        e = torch.randn_like(sigma)\n",
    "        z_reparametrized = mu+sigma*e\n",
    "        x_reconstructed = self.decode(z_reparametrized)\n",
    "        return x_reconstructed, mu, sigma\n",
    "    "
   ]
  },
  {
   "cell_type": "code",
   "execution_count": 3,
   "id": "b0b61579",
   "metadata": {},
   "outputs": [
    {
     "name": "stdout",
     "output_type": "stream",
     "text": [
      "torch.Size([4, 784])\n",
      "torch.Size([4, 20])\n",
      "torch.Size([4, 20])\n"
     ]
    }
   ],
   "source": [
    "### Test\n",
    "\n",
    "x = torch.randn(4, 28*28)\n",
    "vae = VAE(input_dim=28*28)\n",
    "x_reconstructed, mu, sigma = vae(x)\n",
    "print(x_reconstructed.size())\n",
    "print(mu.size())\n",
    "print(sigma.size())"
   ]
  },
  {
   "cell_type": "code",
   "execution_count": 4,
   "id": "257e9260",
   "metadata": {},
   "outputs": [],
   "source": [
    "import numpy as np\n",
    "\n",
    "def split_indices(size, pct):\n",
    "    n_val = int(pct*size)\n",
    "    idxs = np.random.permutation(size)\n",
    "    return idxs[n_val:], idxs[:n_val]"
   ]
  },
  {
   "cell_type": "code",
   "execution_count": 5,
   "id": "07679766",
   "metadata": {},
   "outputs": [],
   "source": [
    "import torchvision.datasets as datasets\n",
    "from tqdm import tqdm\n",
    "from torchvision import transforms\n",
    "from torch.utils.data import DataLoader\n",
    "from torch.utils.data.sampler import SubsetRandomSampler\n",
    "\n",
    "device = 'cuda' if torch.cuda.is_available() else 'cpu'\n",
    "batch_size = 128\n",
    "\n",
    "dataset = datasets.MNIST(root=\"./data\", train=True, transform=transforms.ToTensor(), download=True)\n",
    "test_dataset = datasets.MNIST(root=\"./data\", train=False, transform=transforms.ToTensor(), download=True)\n",
    "\n",
    "# train_indices, val_indices = split_indices(len(dataset), 0.2)\n",
    "# train_sampler = SubsetRandomSampler(train_indices)\n",
    "# train_loader = DataLoader(dataset, batch_size, sampler=train_sampler)\n",
    "# # Validation sampler and data loader\n",
    "# val_sampler = SubsetRandomSampler(val_indices)\n",
    "# val_loader = DataLoader(dataset, batch_size, sampler=val_sampler)\n",
    "\n",
    "train_loader = DataLoader(dataset, batch_size, shuffle=True)\n"
   ]
  },
  {
   "cell_type": "code",
   "execution_count": 6,
   "id": "a24b3537",
   "metadata": {},
   "outputs": [
    {
     "name": "stderr",
     "output_type": "stream",
     "text": [
      "  3%|██▏                                                                | 1/30 [00:07<03:41,  7.63s/it]"
     ]
    },
    {
     "name": "stdout",
     "output_type": "stream",
     "text": [
      "Epoch 1/30 - Loss: 19696.8105\n"
     ]
    },
    {
     "name": "stderr",
     "output_type": "stream",
     "text": [
      "\r",
      "  7%|████▍                                                              | 2/30 [00:17<04:03,  8.69s/it]"
     ]
    },
    {
     "name": "stdout",
     "output_type": "stream",
     "text": [
      "Epoch 2/30 - Loss: 15251.9199\n"
     ]
    },
    {
     "name": "stderr",
     "output_type": "stream",
     "text": [
      "\r",
      " 10%|██████▋                                                            | 3/30 [00:26<04:03,  9.04s/it]"
     ]
    },
    {
     "name": "stdout",
     "output_type": "stream",
     "text": [
      "Epoch 3/30 - Loss: 13623.1084\n"
     ]
    },
    {
     "name": "stderr",
     "output_type": "stream",
     "text": [
      "\r",
      " 13%|████████▉                                                          | 4/30 [00:36<04:01,  9.27s/it]"
     ]
    },
    {
     "name": "stdout",
     "output_type": "stream",
     "text": [
      "Epoch 4/30 - Loss: 12637.5615\n"
     ]
    },
    {
     "name": "stderr",
     "output_type": "stream",
     "text": [
      "\r",
      " 17%|███████████▏                                                       | 5/30 [00:45<03:54,  9.38s/it]"
     ]
    },
    {
     "name": "stdout",
     "output_type": "stream",
     "text": [
      "Epoch 5/30 - Loss: 11897.9336\n"
     ]
    },
    {
     "name": "stderr",
     "output_type": "stream",
     "text": [
      "\r",
      " 20%|█████████████▍                                                     | 6/30 [00:55<03:47,  9.48s/it]"
     ]
    },
    {
     "name": "stdout",
     "output_type": "stream",
     "text": [
      "Epoch 6/30 - Loss: 11686.8984\n"
     ]
    },
    {
     "name": "stderr",
     "output_type": "stream",
     "text": [
      "\r",
      " 23%|███████████████▋                                                   | 7/30 [01:04<03:38,  9.49s/it]"
     ]
    },
    {
     "name": "stdout",
     "output_type": "stream",
     "text": [
      "Epoch 7/30 - Loss: 11085.6543\n"
     ]
    },
    {
     "name": "stderr",
     "output_type": "stream",
     "text": [
      "\r",
      " 27%|█████████████████▊                                                 | 8/30 [01:14<03:30,  9.56s/it]"
     ]
    },
    {
     "name": "stdout",
     "output_type": "stream",
     "text": [
      "Epoch 8/30 - Loss: 10304.7412\n"
     ]
    },
    {
     "name": "stderr",
     "output_type": "stream",
     "text": [
      "\r",
      " 30%|████████████████████                                               | 9/30 [01:24<03:21,  9.59s/it]"
     ]
    },
    {
     "name": "stdout",
     "output_type": "stream",
     "text": [
      "Epoch 9/30 - Loss: 9971.4238\n"
     ]
    },
    {
     "name": "stderr",
     "output_type": "stream",
     "text": [
      "\r",
      " 33%|██████████████████████                                            | 10/30 [01:34<03:14,  9.72s/it]"
     ]
    },
    {
     "name": "stdout",
     "output_type": "stream",
     "text": [
      "Epoch 10/30 - Loss: 10544.6338\n"
     ]
    },
    {
     "name": "stderr",
     "output_type": "stream",
     "text": [
      "\r",
      " 37%|████████████████████████▏                                         | 11/30 [01:44<03:04,  9.74s/it]"
     ]
    },
    {
     "name": "stdout",
     "output_type": "stream",
     "text": [
      "Epoch 11/30 - Loss: 10125.8955\n"
     ]
    },
    {
     "name": "stderr",
     "output_type": "stream",
     "text": [
      "\r",
      " 40%|██████████████████████████▍                                       | 12/30 [01:53<02:53,  9.66s/it]"
     ]
    },
    {
     "name": "stdout",
     "output_type": "stream",
     "text": [
      "Epoch 12/30 - Loss: 9576.2656\n"
     ]
    },
    {
     "name": "stderr",
     "output_type": "stream",
     "text": [
      "\r",
      " 43%|████████████████████████████▌                                     | 13/30 [02:03<02:44,  9.65s/it]"
     ]
    },
    {
     "name": "stdout",
     "output_type": "stream",
     "text": [
      "Epoch 13/30 - Loss: 9359.9150\n"
     ]
    },
    {
     "name": "stderr",
     "output_type": "stream",
     "text": [
      "\r",
      " 47%|██████████████████████████████▊                                   | 14/30 [02:12<02:34,  9.63s/it]"
     ]
    },
    {
     "name": "stdout",
     "output_type": "stream",
     "text": [
      "Epoch 14/30 - Loss: 9196.8633\n"
     ]
    },
    {
     "name": "stderr",
     "output_type": "stream",
     "text": [
      "\r",
      " 50%|█████████████████████████████████                                 | 15/30 [02:22<02:23,  9.59s/it]"
     ]
    },
    {
     "name": "stdout",
     "output_type": "stream",
     "text": [
      "Epoch 15/30 - Loss: 8872.4971\n"
     ]
    },
    {
     "name": "stderr",
     "output_type": "stream",
     "text": [
      "\r",
      " 53%|███████████████████████████████████▏                              | 16/30 [02:31<02:13,  9.55s/it]"
     ]
    },
    {
     "name": "stdout",
     "output_type": "stream",
     "text": [
      "Epoch 16/30 - Loss: 8789.1816\n"
     ]
    },
    {
     "name": "stderr",
     "output_type": "stream",
     "text": [
      "\r",
      " 57%|█████████████████████████████████████▍                            | 17/30 [02:41<02:04,  9.56s/it]"
     ]
    },
    {
     "name": "stdout",
     "output_type": "stream",
     "text": [
      "Epoch 17/30 - Loss: 8911.6074\n"
     ]
    },
    {
     "name": "stderr",
     "output_type": "stream",
     "text": [
      "\r",
      " 60%|███████████████████████████████████████▌                          | 18/30 [02:50<01:55,  9.60s/it]"
     ]
    },
    {
     "name": "stdout",
     "output_type": "stream",
     "text": [
      "Epoch 18/30 - Loss: 8612.1318\n"
     ]
    },
    {
     "name": "stderr",
     "output_type": "stream",
     "text": [
      "\r",
      " 63%|█████████████████████████████████████████▊                        | 19/30 [03:00<01:45,  9.61s/it]"
     ]
    },
    {
     "name": "stdout",
     "output_type": "stream",
     "text": [
      "Epoch 19/30 - Loss: 9237.5732\n"
     ]
    },
    {
     "name": "stderr",
     "output_type": "stream",
     "text": [
      "\r",
      " 67%|████████████████████████████████████████████                      | 20/30 [03:10<01:36,  9.68s/it]"
     ]
    },
    {
     "name": "stdout",
     "output_type": "stream",
     "text": [
      "Epoch 20/30 - Loss: 8643.4648\n"
     ]
    },
    {
     "name": "stderr",
     "output_type": "stream",
     "text": [
      "\r",
      " 70%|██████████████████████████████████████████████▏                   | 21/30 [03:20<01:27,  9.71s/it]"
     ]
    },
    {
     "name": "stdout",
     "output_type": "stream",
     "text": [
      "Epoch 21/30 - Loss: 8575.8271\n"
     ]
    },
    {
     "name": "stderr",
     "output_type": "stream",
     "text": [
      "\r",
      " 73%|████████████████████████████████████████████████▍                 | 22/30 [03:29<01:17,  9.70s/it]"
     ]
    },
    {
     "name": "stdout",
     "output_type": "stream",
     "text": [
      "Epoch 22/30 - Loss: 8474.5576\n"
     ]
    },
    {
     "name": "stderr",
     "output_type": "stream",
     "text": [
      "\r",
      " 77%|██████████████████████████████████████████████████▌               | 23/30 [03:39<01:07,  9.69s/it]"
     ]
    },
    {
     "name": "stdout",
     "output_type": "stream",
     "text": [
      "Epoch 23/30 - Loss: 8040.7783\n"
     ]
    },
    {
     "name": "stderr",
     "output_type": "stream",
     "text": [
      "\r",
      " 80%|████████████████████████████████████████████████████▊             | 24/30 [03:49<00:58,  9.67s/it]"
     ]
    },
    {
     "name": "stdout",
     "output_type": "stream",
     "text": [
      "Epoch 24/30 - Loss: 8634.2852\n"
     ]
    },
    {
     "name": "stderr",
     "output_type": "stream",
     "text": [
      "\r",
      " 83%|███████████████████████████████████████████████████████           | 25/30 [03:58<00:48,  9.65s/it]"
     ]
    },
    {
     "name": "stdout",
     "output_type": "stream",
     "text": [
      "Epoch 25/30 - Loss: 8824.1338\n"
     ]
    },
    {
     "name": "stderr",
     "output_type": "stream",
     "text": [
      "\r",
      " 87%|█████████████████████████████████████████████████████████▏        | 26/30 [04:08<00:38,  9.63s/it]"
     ]
    },
    {
     "name": "stdout",
     "output_type": "stream",
     "text": [
      "Epoch 26/30 - Loss: 8142.3940\n"
     ]
    },
    {
     "name": "stderr",
     "output_type": "stream",
     "text": [
      "\r",
      " 90%|███████████████████████████████████████████████████████████▍      | 27/30 [04:17<00:28,  9.60s/it]"
     ]
    },
    {
     "name": "stdout",
     "output_type": "stream",
     "text": [
      "Epoch 27/30 - Loss: 8269.7607\n"
     ]
    },
    {
     "name": "stderr",
     "output_type": "stream",
     "text": [
      "\r",
      " 93%|█████████████████████████████████████████████████████████████▌    | 28/30 [04:27<00:19,  9.60s/it]"
     ]
    },
    {
     "name": "stdout",
     "output_type": "stream",
     "text": [
      "Epoch 28/30 - Loss: 8251.9854\n"
     ]
    },
    {
     "name": "stderr",
     "output_type": "stream",
     "text": [
      "\r",
      " 97%|███████████████████████████████████████████████████████████████▊  | 29/30 [04:37<00:09,  9.64s/it]"
     ]
    },
    {
     "name": "stdout",
     "output_type": "stream",
     "text": [
      "Epoch 29/30 - Loss: 8432.2617\n"
     ]
    },
    {
     "name": "stderr",
     "output_type": "stream",
     "text": [
      "100%|██████████████████████████████████████████████████████████████████| 30/30 [04:46<00:00,  9.57s/it]"
     ]
    },
    {
     "name": "stdout",
     "output_type": "stream",
     "text": [
      "Epoch 30/30 - Loss: 7863.8105\n"
     ]
    },
    {
     "name": "stderr",
     "output_type": "stream",
     "text": [
      "\n"
     ]
    }
   ],
   "source": [
    "# Training\n",
    "lr = 1e-4 # Karpathy constant\n",
    "EPOCHS = 30\n",
    "INPUT_DIM = 28*28\n",
    "H_DIM = 200\n",
    "Z_DIM = 20\n",
    "\n",
    "model = VAE(INPUT_DIM, H_DIM, Z_DIM)\n",
    "model = model.to(device)\n",
    "opt = torch.optim.Adam(model.parameters(), lr=lr) # try probably smaller lr\n",
    "loss_fn = nn.BCELoss(reduction='sum') # MSE ?\n",
    "#loss_fn = nn.MSELoss(reduction='sum')\n",
    "\n",
    "losses = []\n",
    "\n",
    "for epoch in tqdm(range(EPOCHS)):\n",
    "    for x, _ in train_loader:\n",
    "        x = x.to(device)\n",
    "        x = x.view(x.size(0), INPUT_DIM)\n",
    "        opt.zero_grad()\n",
    "        \n",
    "        out, mu, sigma = model(x)\n",
    "        reconstruction_loss = loss_fn(out, x)\n",
    "        #KL_div = -0.5 * torch.sum(1 + torch.log(sigma**2) - mu**2 - sigma**2, dim=1)\n",
    "        #KL_div = -0.5*torch.sum(1+torch.log(torch.pow(sigma, 2)) - torch.pow(mu, 2) - torch.pow(sigma, 2)) # Minimize KL_div\n",
    "        KL_div = -0.5 * torch.sum(1 + torch.log(sigma**2) - mu**2 - sigma**2, dim=1).mean()\n",
    "        \n",
    "        # backward\n",
    "        loss = reconstruction_loss + KL_div\n",
    "        loss.backward()\n",
    "        opt.step()\n",
    "        \n",
    "        losses.append(loss.item())\n",
    "    \n",
    "    print(\"Epoch {}/{} - Loss: {:.4f}\".format(epoch+1, EPOCHS, loss.item()))"
   ]
  },
  {
   "cell_type": "code",
   "execution_count": 20,
   "id": "ac54f10c",
   "metadata": {},
   "outputs": [
    {
     "name": "stderr",
     "output_type": "stream",
     "text": [
      "C:\\Users\\jorge\\anaconda3\\envs\\pytorch3\\Lib\\site-packages\\torchvision\\models\\_utils.py:208: UserWarning: The parameter 'pretrained' is deprecated since 0.13 and may be removed in the future, please use 'weights' instead.\n",
      "  warnings.warn(\n",
      "C:\\Users\\jorge\\anaconda3\\envs\\pytorch3\\Lib\\site-packages\\torchvision\\models\\_utils.py:223: UserWarning: Arguments other than a weight enum or `None` for 'weights' are deprecated since 0.13 and may be removed in the future. The current behavior is equivalent to passing `weights=Inception_V3_Weights.IMAGENET1K_V1`. You can also use `weights=Inception_V3_Weights.DEFAULT` to get the most up-to-date weights.\n",
      "  warnings.warn(msg)\n"
     ]
    }
   ],
   "source": [
    "count = 1\n",
    "from torchvision.utils import save_image\n",
    "from torchvision.models import inception_v3\n",
    "import torch.nn.functional as F\n",
    "import numpy as np\n",
    "from scipy.linalg import sqrtm\n",
    "\n",
    "original_images = []\n",
    "generated_images = []\n",
    "\n",
    "transform = transforms.Compose([\n",
    "    #transforms.Grayscale(3)\n",
    "    transforms.Lambda(lambda x: x.repeat(3, 1, 1))\n",
    "])\n",
    "\n",
    "model.eval()\n",
    "with torch.no_grad():\n",
    "    for x, y in dataset:\n",
    "        # print(y)\n",
    "        original = x\n",
    "        original_images.append(transform(original.squeeze()))\n",
    "        x = x.view(1, 784)\n",
    "        x = x.to(device)\n",
    "        mu, sigma = model.encode(x)\n",
    "        # Reparametrization\n",
    "        z = mu + sigma*torch.randn_like(sigma)\n",
    "        reconstruction = model.decode(z)\n",
    "        reconstruction = reconstruction.view(-1, 28, 28).squeeze()\n",
    "        generated_images.append(transform(reconstruction))\n",
    "        reconstruction = reconstruction.detach().cpu()\n",
    "#         plt.figure()\n",
    "#         fig, ax = plt.subplots(1,2)\n",
    "#         ax[0].imshow(original.squeeze(), cmap='gray')\n",
    "#         ax[0].set_title('Original')\n",
    "#         ax[1].imshow(reconstruction, cmap='gray')\n",
    "#         ax[1].set_title('Reconstructed')\n",
    "#         plt.show()\n",
    "        \n",
    "        # Save the image\n",
    "        # save_image(reconstruction, f\"./data/MNIST_generated_VAE/BCE_1e4_30/generated_{count}.png\")\n",
    "        # save_image(original, f\"./data/MNIST_original/original_{count}.png\")\n",
    "        \n",
    "        count+=1\n",
    "#         if count == 20:\n",
    "#             break  \n",
    "\n",
    "original_images = torch.stack(original_images)\n",
    "generated_images = torch.stack(generated_images)"
   ]
  },
  {
   "cell_type": "code",
   "execution_count": 53,
   "id": "e56aa8d0",
   "metadata": {},
   "outputs": [],
   "source": [
    "from inception import InceptionV3\n",
    "\n",
    "def calculate_fid(mu1, sigma1, mu2, sigma2):\n",
    "    diff = mu1-mu2\n",
    "    covmean = sqrtm(sigma1.dot(sigma2))\n",
    "    if np.iscomplexobj(covmean):\n",
    "        covmean = covmean.real\n",
    "    fid = diff.dot(diff) + np.trace(sigma1+sigma2- 2*covmean)\n",
    "    return fid\n",
    "\n",
    "def get_activations(images, model, batch_size=32, dims=2048, device='cuda'):\n",
    "    model.eval()\n",
    "    pred_arr = np.empty((len(images), dims))\n",
    "    with torch.no_grad():\n",
    "        for i in range(0, len(images), batch_size):\n",
    "            start = i\n",
    "            end = i+batch_size\n",
    "            batch = images[start:end].to(device)\n",
    "            #print(batch.size())\n",
    "            #raise\n",
    "            pred = model(batch)[0]\n",
    "            pred = F.adaptive_avg_pool2d(pred, output_size=(1,1))\n",
    "            pred = pred.squeeze(3).squeeze(2).cpu().numpy()\n",
    "            pred_arr[start:end] = pred\n",
    "    return pred_arr\n",
    "\n",
    "#inception_model = inception_v3(pretrained=True, transform_input=False).to(device)\n",
    "#inception_model.fc = torch.nn.Identity()\n",
    "block_idx = InceptionV3.BLOCK_INDEX_BY_DIM[2048]\n",
    "inception_model = InceptionV3([block_idx]).to(device)"
   ]
  },
  {
   "cell_type": "code",
   "execution_count": 42,
   "id": "8ede8e3d",
   "metadata": {},
   "outputs": [],
   "source": [
    "# Transform to match the inception v3\n",
    "\n",
    "# transform = transforms.Compose([\n",
    "#     #transforms.Resize((299,299)),\n",
    "#     transforms.Lambda(lambda x: x.repeat(3, 1, 1))\n",
    "# ])\n",
    "\n",
    "# original_transformed = []\n",
    "# generated_transformed = []\n",
    "\n",
    "# for i in range(len(generated_images)):\n",
    "#     original_transformed.append(transform(original_images[i].squeeze()))\n",
    "#     generated_transformed.append(transform(generated_images[i].squeeze()))\n"
   ]
  },
  {
   "cell_type": "code",
   "execution_count": 43,
   "id": "290037b8",
   "metadata": {},
   "outputs": [],
   "source": [
    "# original_transformed = torch.stack(original_transformed)\n",
    "# generated_transformed = torch.stack(generated_transformed)"
   ]
  },
  {
   "cell_type": "code",
   "execution_count": 54,
   "id": "7d793956",
   "metadata": {},
   "outputs": [
    {
     "name": "stdout",
     "output_type": "stream",
     "text": [
      "FID score: 33.00564486414716\n"
     ]
    }
   ],
   "source": [
    "original_activations = get_activations(original_images, inception_model, device=device)\n",
    "generated_activations = get_activations(generated_images, inception_model, device=device)\n",
    "\n",
    "# Calculate mean and covariance of the activations\n",
    "mu1 = np.mean(original_activations, axis=0)\n",
    "sigma1 = np.cov(original_activations, rowvar=False)\n",
    "mu2 = np.mean(generated_activations, axis=0)\n",
    "sigma2 = np.cov(generated_activations, rowvar=False)\n",
    "\n",
    "# Calculate FID score\n",
    "fid_score = calculate_fid(mu1, sigma1, mu2, sigma2)\n",
    "print('FID score:', fid_score)"
   ]
  },
  {
   "cell_type": "code",
   "execution_count": null,
   "id": "6746a3f0",
   "metadata": {},
   "outputs": [],
   "source": []
  }
 ],
 "metadata": {
  "kernelspec": {
   "display_name": "Python 3 (ipykernel)",
   "language": "python",
   "name": "python3"
  },
  "language_info": {
   "codemirror_mode": {
    "name": "ipython",
    "version": 3
   },
   "file_extension": ".py",
   "mimetype": "text/x-python",
   "name": "python",
   "nbconvert_exporter": "python",
   "pygments_lexer": "ipython3",
   "version": "3.11.9"
  }
 },
 "nbformat": 4,
 "nbformat_minor": 5
}
