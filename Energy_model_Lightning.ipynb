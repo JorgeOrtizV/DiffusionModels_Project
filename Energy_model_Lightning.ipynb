{
 "cells": [
  {
   "cell_type": "code",
   "execution_count": 3,
   "id": "f33e4d9c-d93b-424a-a2f2-ff0cabbf47ed",
   "metadata": {},
   "outputs": [
    {
     "name": "stdout",
     "output_type": "stream",
     "text": [
      "Requirement already satisfied: pytorch_lightning in /Library/Frameworks/Python.framework/Versions/3.12/lib/python3.12/site-packages (2.4.0)\n",
      "Requirement already satisfied: torch>=2.1.0 in /Library/Frameworks/Python.framework/Versions/3.12/lib/python3.12/site-packages (from pytorch_lightning) (2.2.2)\n",
      "Requirement already satisfied: tqdm>=4.57.0 in /Library/Frameworks/Python.framework/Versions/3.12/lib/python3.12/site-packages (from pytorch_lightning) (4.66.1)\n",
      "Requirement already satisfied: PyYAML>=5.4 in /Library/Frameworks/Python.framework/Versions/3.12/lib/python3.12/site-packages (from pytorch_lightning) (6.0.1)\n",
      "Requirement already satisfied: fsspec>=2022.5.0 in /Library/Frameworks/Python.framework/Versions/3.12/lib/python3.12/site-packages (from fsspec[http]>=2022.5.0->pytorch_lightning) (2024.3.1)\n",
      "Requirement already satisfied: torchmetrics>=0.7.0 in /Library/Frameworks/Python.framework/Versions/3.12/lib/python3.12/site-packages (from pytorch_lightning) (1.4.3)\n",
      "Requirement already satisfied: packaging>=20.0 in /Library/Frameworks/Python.framework/Versions/3.12/lib/python3.12/site-packages (from pytorch_lightning) (23.2)\n",
      "Requirement already satisfied: typing-extensions>=4.4.0 in /Library/Frameworks/Python.framework/Versions/3.12/lib/python3.12/site-packages (from pytorch_lightning) (4.11.0)\n",
      "Requirement already satisfied: lightning-utilities>=0.10.0 in /Library/Frameworks/Python.framework/Versions/3.12/lib/python3.12/site-packages (from pytorch_lightning) (0.11.7)\n",
      "Requirement already satisfied: aiohttp!=4.0.0a0,!=4.0.0a1 in /Library/Frameworks/Python.framework/Versions/3.12/lib/python3.12/site-packages (from fsspec[http]>=2022.5.0->pytorch_lightning) (3.10.10)\n",
      "Requirement already satisfied: setuptools in /Library/Frameworks/Python.framework/Versions/3.12/lib/python3.12/site-packages (from lightning-utilities>=0.10.0->pytorch_lightning) (69.0.2)\n",
      "Requirement already satisfied: filelock in /Library/Frameworks/Python.framework/Versions/3.12/lib/python3.12/site-packages (from torch>=2.1.0->pytorch_lightning) (3.13.4)\n",
      "Requirement already satisfied: sympy in /Library/Frameworks/Python.framework/Versions/3.12/lib/python3.12/site-packages (from torch>=2.1.0->pytorch_lightning) (1.12)\n",
      "Requirement already satisfied: networkx in /Library/Frameworks/Python.framework/Versions/3.12/lib/python3.12/site-packages (from torch>=2.1.0->pytorch_lightning) (3.2.1)\n",
      "Requirement already satisfied: jinja2 in /Library/Frameworks/Python.framework/Versions/3.12/lib/python3.12/site-packages (from torch>=2.1.0->pytorch_lightning) (3.1.2)\n",
      "Requirement already satisfied: numpy>1.20.0 in /Library/Frameworks/Python.framework/Versions/3.12/lib/python3.12/site-packages (from torchmetrics>=0.7.0->pytorch_lightning) (1.26.2)\n",
      "Requirement already satisfied: aiohappyeyeballs>=2.3.0 in /Library/Frameworks/Python.framework/Versions/3.12/lib/python3.12/site-packages (from aiohttp!=4.0.0a0,!=4.0.0a1->fsspec[http]>=2022.5.0->pytorch_lightning) (2.4.3)\n",
      "Requirement already satisfied: aiosignal>=1.1.2 in /Library/Frameworks/Python.framework/Versions/3.12/lib/python3.12/site-packages (from aiohttp!=4.0.0a0,!=4.0.0a1->fsspec[http]>=2022.5.0->pytorch_lightning) (1.3.1)\n",
      "Requirement already satisfied: attrs>=17.3.0 in /Library/Frameworks/Python.framework/Versions/3.12/lib/python3.12/site-packages (from aiohttp!=4.0.0a0,!=4.0.0a1->fsspec[http]>=2022.5.0->pytorch_lightning) (23.1.0)\n",
      "Requirement already satisfied: frozenlist>=1.1.1 in /Library/Frameworks/Python.framework/Versions/3.12/lib/python3.12/site-packages (from aiohttp!=4.0.0a0,!=4.0.0a1->fsspec[http]>=2022.5.0->pytorch_lightning) (1.4.1)\n",
      "Requirement already satisfied: multidict<7.0,>=4.5 in /Library/Frameworks/Python.framework/Versions/3.12/lib/python3.12/site-packages (from aiohttp!=4.0.0a0,!=4.0.0a1->fsspec[http]>=2022.5.0->pytorch_lightning) (6.1.0)\n",
      "Requirement already satisfied: yarl<2.0,>=1.12.0 in /Library/Frameworks/Python.framework/Versions/3.12/lib/python3.12/site-packages (from aiohttp!=4.0.0a0,!=4.0.0a1->fsspec[http]>=2022.5.0->pytorch_lightning) (1.15.1)\n",
      "Requirement already satisfied: MarkupSafe>=2.0 in /Library/Frameworks/Python.framework/Versions/3.12/lib/python3.12/site-packages (from jinja2->torch>=2.1.0->pytorch_lightning) (2.1.3)\n",
      "Requirement already satisfied: mpmath>=0.19 in /Library/Frameworks/Python.framework/Versions/3.12/lib/python3.12/site-packages (from sympy->torch>=2.1.0->pytorch_lightning) (1.3.0)\n",
      "Requirement already satisfied: idna>=2.0 in /Library/Frameworks/Python.framework/Versions/3.12/lib/python3.12/site-packages (from yarl<2.0,>=1.12.0->aiohttp!=4.0.0a0,!=4.0.0a1->fsspec[http]>=2022.5.0->pytorch_lightning) (3.6)\n",
      "Requirement already satisfied: propcache>=0.2.0 in /Library/Frameworks/Python.framework/Versions/3.12/lib/python3.12/site-packages (from yarl<2.0,>=1.12.0->aiohttp!=4.0.0a0,!=4.0.0a1->fsspec[http]>=2022.5.0->pytorch_lightning) (0.2.0)\n",
      "Note: you may need to restart the kernel to use updated packages.\n"
     ]
    }
   ],
   "source": [
    "pip install pytorch_lightning"
   ]
  },
  {
   "cell_type": "code",
   "execution_count": 4,
   "id": "a069bbe7-c4fa-47bb-8996-afa2e4b8e91f",
   "metadata": {},
   "outputs": [
    {
     "name": "stdout",
     "output_type": "stream",
     "text": [
      "Requirement already satisfied: tensorboard in /Library/Frameworks/Python.framework/Versions/3.12/lib/python3.12/site-packages (2.18.0)\n",
      "Requirement already satisfied: absl-py>=0.4 in /Library/Frameworks/Python.framework/Versions/3.12/lib/python3.12/site-packages (from tensorboard) (2.1.0)\n",
      "Requirement already satisfied: grpcio>=1.48.2 in /Library/Frameworks/Python.framework/Versions/3.12/lib/python3.12/site-packages (from tensorboard) (1.66.2)\n",
      "Requirement already satisfied: markdown>=2.6.8 in /Library/Frameworks/Python.framework/Versions/3.12/lib/python3.12/site-packages (from tensorboard) (3.7)\n",
      "Requirement already satisfied: numpy>=1.12.0 in /Library/Frameworks/Python.framework/Versions/3.12/lib/python3.12/site-packages (from tensorboard) (1.26.2)\n",
      "Requirement already satisfied: packaging in /Library/Frameworks/Python.framework/Versions/3.12/lib/python3.12/site-packages (from tensorboard) (23.2)\n",
      "Requirement already satisfied: protobuf!=4.24.0,>=3.19.6 in /Library/Frameworks/Python.framework/Versions/3.12/lib/python3.12/site-packages (from tensorboard) (5.28.2)\n",
      "Requirement already satisfied: setuptools>=41.0.0 in /Library/Frameworks/Python.framework/Versions/3.12/lib/python3.12/site-packages (from tensorboard) (69.0.2)\n",
      "Requirement already satisfied: six>1.9 in /Library/Frameworks/Python.framework/Versions/3.12/lib/python3.12/site-packages (from tensorboard) (1.16.0)\n",
      "Requirement already satisfied: tensorboard-data-server<0.8.0,>=0.7.0 in /Library/Frameworks/Python.framework/Versions/3.12/lib/python3.12/site-packages (from tensorboard) (0.7.2)\n",
      "Requirement already satisfied: werkzeug>=1.0.1 in /Library/Frameworks/Python.framework/Versions/3.12/lib/python3.12/site-packages (from tensorboard) (3.0.4)\n",
      "Requirement already satisfied: MarkupSafe>=2.1.1 in /Library/Frameworks/Python.framework/Versions/3.12/lib/python3.12/site-packages (from werkzeug>=1.0.1->tensorboard) (2.1.3)\n",
      "Note: you may need to restart the kernel to use updated packages.\n"
     ]
    }
   ],
   "source": [
    "pip install tensorboard"
   ]
  },
  {
   "cell_type": "code",
   "execution_count": 5,
   "id": "3b9f9281-cbe6-41e6-94bd-b029e73ca681",
   "metadata": {},
   "outputs": [],
   "source": [
    "import os\n",
    "import numpy as np\n",
    "import torch\n",
    "import torch.nn as nn\n",
    "import torch.nn.functional as F\n",
    "import torch.optim as optim\n",
    "import pytorch_lightning as pl\n",
    "import random\n",
    "import matplotlib.pyplot as plt\n",
    "from pytorch_lightning.callbacks import ModelCheckpoint, LearningRateMonitor\n",
    "import tensorboard"
   ]
  },
  {
   "cell_type": "code",
   "execution_count": 6,
   "id": "78f4c20c-a532-4672-9b52-0dd325d5438d",
   "metadata": {},
   "outputs": [],
   "source": [
    "class SemiCircumferenceDataModule(pl.LightningDataModule):\n",
    "    def __init__(self, batch_size=128, num_points=10000):\n",
    "        super().__init__()\n",
    "        self.batch_size = batch_size\n",
    "        self.num_points = num_points\n",
    "\n",
    "    def setup(self, stage=None):\n",
    "        angle = torch.rand(self.num_points) * np.pi\n",
    "        radius = torch.ones(self.num_points)\n",
    "        x = radius * torch.cos(angle)\n",
    "        y = radius * torch.sin(angle)\n",
    "        self.data = torch.stack([x, y], dim=1)\n",
    "\n",
    "    def train_dataloader(self):\n",
    "        return torch.utils.data.DataLoader(self.data, batch_size=self.batch_size, shuffle=True)"
   ]
  },
  {
   "cell_type": "code",
   "execution_count": 20,
   "id": "c3f0567b-3ea3-492e-a8b7-0bdb75dd3700",
   "metadata": {},
   "outputs": [],
   "source": [
    "class Swish(nn.Module):\n",
    "    def forward(self, x):\n",
    "        return x * torch.sigmoid(x)\n",
    "\n",
    "class EnergyModel(nn.Module):\n",
    "    def __init__(self, input_dim=2, hidden_dim=128, out_dim=1):\n",
    "        super().__init__()\n",
    "        self.model = nn.Sequential(\n",
    "            nn.Linear(input_dim, hidden_dim),\n",
    "            Swish(),\n",
    "            nn.Linear(hidden_dim, hidden_dim),\n",
    "            Swish(),\n",
    "            nn.Linear(hidden_dim, hidden_dim),\n",
    "            Swish(),\n",
    "            nn.Linear(hidden_dim, hidden_dim),\n",
    "            Swish(),\n",
    "            nn.Linear(hidden_dim, out_dim),\n",
    "        )\n",
    "    \n",
    "    def forward(self, x):\n",
    "        return self.model(x).squeeze(dim=-1)\n",
    "\n",
    "# Remeber that this model's output is not the energy E(x) but -E(x)"
   ]
  },
  {
   "cell_type": "code",
   "execution_count": 21,
   "id": "486b5320-3c89-41a9-99a2-90d29481e920",
   "metadata": {},
   "outputs": [],
   "source": [
    "class Sampler:\n",
    "    \n",
    "    def __init__(self, model, sample_size, max_len=8192):\n",
    "        super().__init__()\n",
    "        self.model = model\n",
    "        self.sample_size = sample_size\n",
    "        self.max_len = max_len\n",
    "\n",
    "        # Put everything on the same device that Lightning assigns to the model\n",
    "        self.device = next(model.parameters()).device\n",
    "\n",
    "        # Generate points in the interval [-1,1]\n",
    "        self.examples = [torch.rand((2,), device=self.device) * 2 - 1 for _ in range(self.sample_size)]\n",
    "\n",
    "    def sample_new_exmps(self, steps=60, step_size=0.1):\n",
    "\n",
    "        # n_new is the number of points that are generated anew, the rest come from last iteration\n",
    "        n_new = np.random.binomial(self.sample_size, 0.05)\n",
    "        \n",
    "        rand_points = (torch.rand((n_new, 2), device=self.device) * 2 - 1)\n",
    "\n",
    "        # Select k=self.sample_size - n_new points from last iteration (self.examples)\n",
    "        old_points = torch.stack(random.choices(self.examples, k=self.sample_size - n_new))\n",
    "\n",
    "        inp_points = torch.cat([rand_points, old_points], dim=0).detach().to(self.device)\n",
    "\n",
    "        inp_points = Sampler.generate_samples(self.model, inp_points, steps=steps, step_size=step_size)\n",
    "\n",
    "        # Update the last iteration points with the current iteration ones\n",
    "        # Place points on the CPU to save GPU memory\n",
    "        self.examples = list(inp_points.to(torch.device(\"cpu\"))) + self.examples\n",
    "\n",
    "        # If the points saved are too many discard the old ones\n",
    "        self.examples = self.examples[:self.max_len]\n",
    "        \n",
    "        return inp_points\n",
    "\n",
    "\n",
    "    @staticmethod\n",
    "    def generate_samples(model, inp_points, steps=60, step_size=0.1):\n",
    "        model.eval()\n",
    "        for p in model.parameters():\n",
    "            p.requires_grad = False\n",
    "        inp_points.requires_grad = True\n",
    "\n",
    "        # Generate a noise vector outside the loop so that we don't have to allocate memory \n",
    "        # each time we start a new loop iteration\n",
    "        noise = torch.randn(inp_points.shape, device=inp_points.device)\n",
    "\n",
    "        for _ in range(steps):\n",
    "\n",
    "            # the \"_\" means that this is an in-place operation. We are just modifying the noise vector\n",
    "            # without allocating new memory\n",
    "            noise.normal_(0, 0.01)\n",
    "\n",
    "            '''\n",
    "            Option 1:\n",
    "            '''\n",
    "            inp_points.data.add_(noise.data)\n",
    "\n",
    "            out_points = -model(inp_points)\n",
    "            out_points.sum().backward()\n",
    "            inp_points.grad.data.clamp_(-0.03, 0.03)\n",
    "\n",
    "            inp_points.data.add_(-step_size * inp_points.grad.data)\n",
    "            inp_points.grad.detach_()\n",
    "            inp_points.grad.zero_()\n",
    "            '''\n",
    "            inp_points = inp_points + noise\n",
    "            print(inp_points.requires_grad)\n",
    "            \n",
    "            # Since the models compute -E(x) and we want inp_points_energy to be E(x) we need to change sign to the output of model()\n",
    "            inp_points_energy = -model(inp_points)\n",
    "            inp_points_energy.sum().backward()\n",
    "            inp_points.grad.clamp_(-0.03, 0.03)  # Stabilize gradients\n",
    "\n",
    "            inp_points = inp_points - step_size * inp_points.grad\n",
    "\n",
    "            # Detatch grads from the computational graph and zero them\n",
    "            inp_points.grad.detach_()\n",
    "            inp_points.grad.zero_()\n",
    "            '''\n",
    "\n",
    "        for p in model.parameters():\n",
    "            p.requires_grad = True\n",
    "        model.train()\n",
    "\n",
    "        return inp_points\n"
   ]
  },
  {
   "cell_type": "code",
   "execution_count": 22,
   "id": "efdee93b-91d3-4d19-b1f8-ffbdfca23e40",
   "metadata": {},
   "outputs": [],
   "source": [
    "class DeepEnergyModel(pl.LightningModule):\n",
    "    \n",
    "    def __init__(self, batch_size, alpha=0.1, lr=1e-4, beta1=0.0, sampler_steps=60, sampler_step_size=0.1, **model_args):\n",
    "        super().__init__()\n",
    "        self.save_hyperparameters()\n",
    "\n",
    "        self.energy_model = EnergyModel(**model_args)\n",
    "        self.sampler = Sampler(self.energy_model, sample_size=batch_size)\n",
    "        self.example_input_array = torch.zeros(1, 2)\n",
    "\n",
    "    def forward(self, x):\n",
    "        return self.energy_model(x)\n",
    "\n",
    "    def configure_optimizers(self):\n",
    "        optimizer = optim.Adam(self.parameters(), lr=self.hparams.lr, betas=(self.hparams.beta1, 0.999))\n",
    "        scheduler = optim.lr_scheduler.StepLR(optimizer, 1, gamma=0.97)\n",
    "        return [optimizer], [scheduler]\n",
    "\n",
    "    def training_step(self, batch, batch_idx):\n",
    "        real_points = batch\n",
    "        small_noise = torch.randn_like(real_points) * 0.005\n",
    "        real_points.add_(small_noise)\n",
    "\n",
    "        fake_points = self.sampler.sample_new_exmps(steps=self.hparams.sampler_steps, step_size=self.hparams.sampler_step_size)\n",
    "\n",
    "        inp_points = torch.cat([real_points, fake_points], dim=0)\n",
    "\n",
    "        # Get the energy for real samples and fake ones. Since we have the same number of\n",
    "        # real and fake sample we can just split the resulting vector in 2 equal parts with .chunk\n",
    "        \n",
    "        # Remeber that self.energy_model(inp_points) = -E(x) and not E(x)\n",
    "        real_energy, fake_energy = self.energy_model(inp_points).chunk(2, dim=0)\n",
    "        \n",
    "        reg_loss = self.hparams.alpha * (real_energy ** 2 + fake_energy ** 2).mean()\n",
    "\n",
    "        # The standard form for contrastive loss is E(x^+) - E(x^-) (where x^+ are real samples\n",
    "        #and x^- are fake samples) because we want to minimize the energy of real samples.\n",
    "        # In this case the sign is inverted cause real_energy and fake_energy are -E(x^+) \n",
    "        # and -E(x^-) respectively\n",
    "        cdiv_loss = fake_energy.mean() - real_energy.mean()\n",
    "        loss = reg_loss + cdiv_loss\n",
    "\n",
    "        self.log('loss', loss, on_epoch=True, prog_bar=True)\n",
    "        #self.log('loss_regularization', reg_loss, on_epoch=True)\n",
    "        self.log('loss_contrastive_divergence', cdiv_loss, on_epoch=True, prog_bar=True)\n",
    "        return loss\n",
    "\n",
    "    # This validation compares the energy of real points with completely fake points\n",
    "    def validation_step(self, batch, batch_idx):\n",
    "        real_points = batch\n",
    "        fake_points = torch.rand_like(real_points) * 2 - 1\n",
    "\n",
    "        inp_points = torch.cat([real_points, fake_points], dim=0)\n",
    "        real_out, fake_out = self.energy_model(inp_points).chunk(2, dim=0)\n",
    "\n",
    "        cdiv = fake_out.mean() - real_out.mean()\n",
    "        #self.log('val_contrastive_divergence', cdiv, on_epoch=True, prog_bar=True)\n",
    "\n",
    "\n",
    "    def visualize_samples(self, points, epoch, training_data):\n",
    "        points = points.cpu().detach().numpy()\n",
    "        training_data = training_data.cpu().detach().numpy()\n",
    "    \n",
    "        plt.figure(figsize=(8, 8))\n",
    "        # Plot the training data points in blue\n",
    "        plt.scatter(training_data[:, 0], training_data[:, 1], color='blue', alpha=0.3, label='Training Data')\n",
    "        # Plot the sampled points in red\n",
    "        plt.scatter(points[:, 0], points[:, 1], color='red', alpha=0.5, label='Sampled Points')\n",
    "        \n",
    "        plt.title(f'Sampled Points at Epoch {epoch}')\n",
    "        plt.xlabel('X-axis')\n",
    "        plt.ylabel('Y-axis')\n",
    "        plt.xlim(-1.5, 1.5)\n",
    "        plt.ylim(0, 1.5)\n",
    "        plt.grid(True)\n",
    "        plt.legend()\n",
    "        plt.show()\n",
    "\n"
   ]
  },
  {
   "cell_type": "code",
   "execution_count": 23,
   "id": "fe924c44-202b-4806-8b24-c0608377fa9c",
   "metadata": {},
   "outputs": [],
   "source": [
    "# This callback generates a plot of the generated samples every n epochs\n",
    "\n",
    "class VisualizeCallback(pl.Callback):\n",
    "    def __init__(self, every_n_epochs=5):\n",
    "        super().__init__()\n",
    "        self.every_n_epochs = every_n_epochs\n",
    "\n",
    "    def on_epoch_end(self, trainer, pl_module):\n",
    "        if trainer.current_epoch % self.every_n_epochs == 0:\n",
    "            sampled_points = pl_module.sampler.sample_new_exmps(\n",
    "                steps=pl_module.hparams.sampler_steps, \n",
    "                step_size=pl_module.hparams.sampler_step_size\n",
    "            )\n",
    "            pl_module.visualize_samples(sampled_points, epoch=trainer.current_epoch)\n",
    "\n",
    "visualize_callback = VisualizeCallback(every_n_epochs=5)"
   ]
  },
  {
   "cell_type": "code",
   "execution_count": 24,
   "id": "96558e4b-6180-4a7d-a469-1c9de4c7e3f2",
   "metadata": {},
   "outputs": [
    {
     "name": "stderr",
     "output_type": "stream",
     "text": [
      "GPU available: True (mps), used: False\n",
      "TPU available: False, using: 0 TPU cores\n",
      "HPU available: False, using: 0 HPUs\n",
      "/Library/Frameworks/Python.framework/Versions/3.12/lib/python3.12/site-packages/pytorch_lightning/trainer/setup.py:177: GPU available but not used. You can set it by doing `Trainer(accelerator='gpu')`.\n"
     ]
    }
   ],
   "source": [
    "# Instantiate DataModule and Model\n",
    "data_module = SemiCircumferenceDataModule(batch_size=128, num_points=1000)\n",
    "model = DeepEnergyModel(batch_size=128, lr=1e-4, alpha=0.1, beta1=0.0, input_dim=2, hidden_dim=128, out_dim=1)\n",
    "\n",
    "from pytorch_lightning.loggers import TensorBoardLogger\n",
    "\n",
    "# Create a TensorBoard logger\n",
    "logger = TensorBoardLogger(\"tb_logs\", name=\"deep_energy_model\")\n",
    "\n",
    "# Create a PyTorch Lightning trainer with the logger\n",
    "trainer = pl.Trainer(\n",
    "    accelerator=\"cpu\",\n",
    "    max_epochs=200,\n",
    "    gradient_clip_val=0.1,\n",
    "    callbacks=[ModelCheckpoint(save_weights_only=True, mode=\"min\", monitor='loss_contrastive_divergence'),\n",
    "               LearningRateMonitor(\"epoch\"),\n",
    "               visualize_callback],\n",
    "    logger=logger  # Add the logger here\n",
    ")\n"
   ]
  },
  {
   "cell_type": "code",
   "execution_count": 25,
   "id": "4a4a024e-67b0-4a6e-8bec-cd2b58bddfba",
   "metadata": {
    "scrolled": true
   },
   "outputs": [
    {
     "name": "stderr",
     "output_type": "stream",
     "text": [
      "/Library/Frameworks/Python.framework/Versions/3.12/lib/python3.12/site-packages/pytorch_lightning/trainer/configuration_validator.py:70: You defined a `validation_step` but have no `val_dataloader`. Skipping val loop.\n",
      "\n",
      "  | Name         | Type        | Params | Mode  | In sizes | Out sizes\n",
      "----------------------------------------------------------------------------\n",
      "0 | energy_model | EnergyModel | 50.0 K | train | [1, 2]   | [1]      \n",
      "----------------------------------------------------------------------------\n",
      "50.0 K    Trainable params\n",
      "0         Non-trainable params\n",
      "50.0 K    Total params\n",
      "0.200     Total estimated model params size (MB)\n",
      "11        Modules in train mode\n",
      "0         Modules in eval mode\n",
      "/Library/Frameworks/Python.framework/Versions/3.12/lib/python3.12/site-packages/pytorch_lightning/trainer/connectors/data_connector.py:424: The 'train_dataloader' does not have many workers which may be a bottleneck. Consider increasing the value of the `num_workers` argument` to `num_workers=7` in the `DataLoader` to improve performance.\n",
      "/Library/Frameworks/Python.framework/Versions/3.12/lib/python3.12/site-packages/pytorch_lightning/loops/fit_loop.py:298: The number of training batches (8) is smaller than the logging interval Trainer(log_every_n_steps=50). Set a lower value for log_every_n_steps if you want to see logs for the training epoch.\n"
     ]
    },
    {
     "data": {
      "application/vnd.jupyter.widget-view+json": {
       "model_id": "27f740fb576c413c921ad1c4e5d2e6e0",
       "version_major": 2,
       "version_minor": 0
      },
      "text/plain": [
       "Training: |                                               | 0/? [00:00<?, ?it/s]"
      ]
     },
     "metadata": {},
     "output_type": "display_data"
    },
    {
     "name": "stderr",
     "output_type": "stream",
     "text": [
      "`Trainer.fit` stopped: `max_epochs=200` reached.\n"
     ]
    }
   ],
   "source": [
    "# Train the model\n",
    "trainer.fit(model, datamodule=data_module)"
   ]
  },
  {
   "cell_type": "code",
   "execution_count": 26,
   "id": "35d43239-38c9-4304-ba8e-995c43e25e4b",
   "metadata": {
    "scrolled": true
   },
   "outputs": [
    {
     "data": {
      "image/png": "[encoded data removed]",
      "text/plain": [
       "<Figure size 800x800 with 1 Axes>"
      ]
     },
     "metadata": {},
     "output_type": "display_data"
    }
   ],
   "source": [
    "# Visualize some of the sampled points after training\n",
    "sampled_points = model.sampler.sample_new_exmps(steps=60, step_size=0.1)\n",
    "model.visualize_samples(sampled_points, epoch=trainer.current_epoch)"
   ]
  },
  {
   "cell_type": "code",
   "execution_count": 27,
   "id": "037a8533-726e-4290-aaaa-a6c897b52e02",
   "metadata": {},
   "outputs": [
    {
     "name": "stdout",
     "output_type": "stream",
     "text": [
      "The tensorboard extension is already loaded. To reload it, use:\n",
      "  %reload_ext tensorboard\n"
     ]
    },
    {
     "data": {
      "text/plain": [
       "Reusing TensorBoard on port 6006 (pid 4449), started 0:04:45 ago. (Use '!kill 4449' to kill it.)"
      ]
     },
     "metadata": {},
     "output_type": "display_data"
    },
    {
     "data": {
      "text/html": [
       "\n",
       "      <iframe id=\"tensorboard-frame-3115f97b65aaad86\" width=\"100%\" height=\"800\" frameborder=\"0\">\n",
       "      </iframe>\n",
       "      <script>\n",
       "        (function() {\n",
       "          const frame = document.getElementById(\"tensorboard-frame-3115f97b65aaad86\");\n",
       "          const url = new URL(\"/\", window.location);\n",
       "          const port = 6006;\n",
       "          if (port) {\n",
       "            url.port = port;\n",
       "          }\n",
       "          frame.src = url;\n",
       "        })();\n",
       "      </script>\n",
       "    "
      ],
      "text/plain": [
       "<IPython.core.display.HTML object>"
      ]
     },
     "metadata": {},
     "output_type": "display_data"
    }
   ],
   "source": [
    "%load_ext tensorboard\n",
    "%tensorboard --logdir tb_logs\n"
   ]
  },
  {
   "cell_type": "code",
   "execution_count": null,
   "id": "28ff16dc-104e-48da-bac7-4e807745c11e",
   "metadata": {},
   "outputs": [],
   "source": []
  }
 ],
 "metadata": {
  "kernelspec": {
   "display_name": "Python 3 (ipykernel)",
   "language": "python",
   "name": "python3"
  },
  "language_info": {
   "codemirror_mode": {
    "name": "ipython",
    "version": 3
   },
   "file_extension": ".py",
   "mimetype": "text/x-python",
   "name": "python",
   "nbconvert_exporter": "python",
   "pygments_lexer": "ipython3",
   "version": "3.12.1"
  }
 },
 "nbformat": 4,
 "nbformat_minor": 5
}
